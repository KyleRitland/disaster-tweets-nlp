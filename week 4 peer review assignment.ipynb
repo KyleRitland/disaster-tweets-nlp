{
 "cells": [
  {
   "cell_type": "markdown",
   "metadata": {},
   "source": [
    "<h2>Brief description of the problem and data</h2>"
   ]
  },
  {
   "cell_type": "markdown",
   "metadata": {},
   "source": [
    "<p>The challange problem for this assignment is: given a set of tweets from the social media platform Twitter, use Natural Language Processing (NLP) to determine which tweets reference an emergency (car crash, house fire, etc.) or natural disaster (earthquake, forest fire, torando, etc.) and which do not. Use any Kaggle tutorials, discussion boards, and code examples posted for this challenge but be sure to explain in your own words your understanding of the code used and reasons for using it.</p>\n",
    "<p>The data in question, as mentioned above, are tweets. Tweets are composed of strings of text that contain characters, symbols and numbers. Each tweet can have at most 160 characters. Below is a counting of the total tweets in both data sets.</p>"
   ]
  },
  {
   "cell_type": "code",
   "execution_count": 453,
   "metadata": {},
   "outputs": [
    {
     "name": "stdout",
     "output_type": "stream",
     "text": [
      "TensorFlow version: 2.10.0\n",
      "Keras Version: 2.10.0\n",
      "KerasNLP version: 0.6.1\n",
      "\n",
      "Python 3.9.19 (main, Mar 21 2024, 17:21:27) [MSC v.1916 64 bit (AMD64)]\n",
      "GPU is available\n",
      "[PhysicalDevice(name='/physical_device:GPU:0', device_type='GPU')]\n"
     ]
    }
   ],
   "source": [
    "\n",
    "import numpy as np # linear algebra\n",
    "import pandas as pd # data processing, CSV file I/O (e.g. pd.read_csv)\n",
    "import tensorflow as tf\n",
    "import keras\n",
    "import keras_nlp\n",
    "\n",
    "from sklearn.model_selection import train_test_split\n",
    "from sklearn.metrics import ConfusionMatrixDisplay, confusion_matrix\n",
    "\n",
    "import seaborn as sns\n",
    "import altair as alt\n",
    "import matplotlib.pyplot as plt\n",
    "\n",
    "import keras_tuner\n",
    "from keras_tuner.tuners import RandomSearch\n",
    "\n",
    "from sklearn import feature_extraction, linear_model, model_selection, preprocessing\n",
    "\n",
    "import nltk\n",
    "from nltk.corpus import stopwords\n",
    "\n",
    "import json\n",
    "import os\n",
    "import sys\n",
    "import string\n",
    "import re\n",
    "\n",
    "os.environ[\"KERAS_BACKEND\"] = \"tensorflow\"\n",
    "\n",
    "print(\"TensorFlow version:\", tf.__version__)\n",
    "print(f\"Keras Version: {keras.__version__}\")\n",
    "print(\"KerasNLP version:\", keras_nlp.__version__)\n",
    "print()\n",
    "print(f\"Python {sys.version}\")\n",
    "gpu_list = tf.config.list_physical_devices('GPU')\n",
    "gpu = len(gpu_list)>0\n",
    "print(\"GPU is\", \"available\" if gpu else \"NOT AVAILABLE\")\n",
    "print(gpu_list)\n",
    "\n"
   ]
  },
  {
   "cell_type": "code",
   "execution_count": 9,
   "metadata": {},
   "outputs": [
    {
     "data": {
      "text/html": [
       "<div>\n",
       "<style scoped>\n",
       "    .dataframe tbody tr th:only-of-type {\n",
       "        vertical-align: middle;\n",
       "    }\n",
       "\n",
       "    .dataframe tbody tr th {\n",
       "        vertical-align: top;\n",
       "    }\n",
       "\n",
       "    .dataframe thead th {\n",
       "        text-align: right;\n",
       "    }\n",
       "</style>\n",
       "<table border=\"1\" class=\"dataframe\">\n",
       "  <thead>\n",
       "    <tr style=\"text-align: right;\">\n",
       "      <th></th>\n",
       "      <th>id</th>\n",
       "      <th>keyword</th>\n",
       "      <th>location</th>\n",
       "      <th>text</th>\n",
       "      <th>target</th>\n",
       "    </tr>\n",
       "  </thead>\n",
       "  <tbody>\n",
       "    <tr>\n",
       "      <th>0</th>\n",
       "      <td>1</td>\n",
       "      <td>NaN</td>\n",
       "      <td>NaN</td>\n",
       "      <td>Our Deeds are the Reason of this #earthquake M...</td>\n",
       "      <td>1</td>\n",
       "    </tr>\n",
       "    <tr>\n",
       "      <th>1</th>\n",
       "      <td>4</td>\n",
       "      <td>NaN</td>\n",
       "      <td>NaN</td>\n",
       "      <td>Forest fire near La Ronge Sask. Canada</td>\n",
       "      <td>1</td>\n",
       "    </tr>\n",
       "    <tr>\n",
       "      <th>2</th>\n",
       "      <td>5</td>\n",
       "      <td>NaN</td>\n",
       "      <td>NaN</td>\n",
       "      <td>All residents asked to 'shelter in place' are ...</td>\n",
       "      <td>1</td>\n",
       "    </tr>\n",
       "    <tr>\n",
       "      <th>3</th>\n",
       "      <td>6</td>\n",
       "      <td>NaN</td>\n",
       "      <td>NaN</td>\n",
       "      <td>13,000 people receive #wildfires evacuation or...</td>\n",
       "      <td>1</td>\n",
       "    </tr>\n",
       "    <tr>\n",
       "      <th>4</th>\n",
       "      <td>7</td>\n",
       "      <td>NaN</td>\n",
       "      <td>NaN</td>\n",
       "      <td>Just got sent this photo from Ruby #Alaska as ...</td>\n",
       "      <td>1</td>\n",
       "    </tr>\n",
       "  </tbody>\n",
       "</table>\n",
       "</div>"
      ],
      "text/plain": [
       "   id keyword location                                               text  \\\n",
       "0   1     NaN      NaN  Our Deeds are the Reason of this #earthquake M...   \n",
       "1   4     NaN      NaN             Forest fire near La Ronge Sask. Canada   \n",
       "2   5     NaN      NaN  All residents asked to 'shelter in place' are ...   \n",
       "3   6     NaN      NaN  13,000 people receive #wildfires evacuation or...   \n",
       "4   7     NaN      NaN  Just got sent this photo from Ruby #Alaska as ...   \n",
       "\n",
       "   target  \n",
       "0       1  \n",
       "1       1  \n",
       "2       1  \n",
       "3       1  \n",
       "4       1  "
      ]
     },
     "metadata": {},
     "output_type": "display_data"
    },
    {
     "name": "stdout",
     "output_type": "stream",
     "text": [
      "Training Set Shape = (7613, 5)\n"
     ]
    },
    {
     "data": {
      "text/html": [
       "<div>\n",
       "<style scoped>\n",
       "    .dataframe tbody tr th:only-of-type {\n",
       "        vertical-align: middle;\n",
       "    }\n",
       "\n",
       "    .dataframe tbody tr th {\n",
       "        vertical-align: top;\n",
       "    }\n",
       "\n",
       "    .dataframe thead th {\n",
       "        text-align: right;\n",
       "    }\n",
       "</style>\n",
       "<table border=\"1\" class=\"dataframe\">\n",
       "  <thead>\n",
       "    <tr style=\"text-align: right;\">\n",
       "      <th></th>\n",
       "      <th>id</th>\n",
       "      <th>keyword</th>\n",
       "      <th>location</th>\n",
       "      <th>text</th>\n",
       "    </tr>\n",
       "  </thead>\n",
       "  <tbody>\n",
       "    <tr>\n",
       "      <th>0</th>\n",
       "      <td>0</td>\n",
       "      <td>NaN</td>\n",
       "      <td>NaN</td>\n",
       "      <td>Just happened a terrible car crash</td>\n",
       "    </tr>\n",
       "    <tr>\n",
       "      <th>1</th>\n",
       "      <td>2</td>\n",
       "      <td>NaN</td>\n",
       "      <td>NaN</td>\n",
       "      <td>Heard about #earthquake is different cities, s...</td>\n",
       "    </tr>\n",
       "    <tr>\n",
       "      <th>2</th>\n",
       "      <td>3</td>\n",
       "      <td>NaN</td>\n",
       "      <td>NaN</td>\n",
       "      <td>there is a forest fire at spot pond, geese are...</td>\n",
       "    </tr>\n",
       "    <tr>\n",
       "      <th>3</th>\n",
       "      <td>9</td>\n",
       "      <td>NaN</td>\n",
       "      <td>NaN</td>\n",
       "      <td>Apocalypse lighting. #Spokane #wildfires</td>\n",
       "    </tr>\n",
       "    <tr>\n",
       "      <th>4</th>\n",
       "      <td>11</td>\n",
       "      <td>NaN</td>\n",
       "      <td>NaN</td>\n",
       "      <td>Typhoon Soudelor kills 28 in China and Taiwan</td>\n",
       "    </tr>\n",
       "  </tbody>\n",
       "</table>\n",
       "</div>"
      ],
      "text/plain": [
       "   id keyword location                                               text\n",
       "0   0     NaN      NaN                 Just happened a terrible car crash\n",
       "1   2     NaN      NaN  Heard about #earthquake is different cities, s...\n",
       "2   3     NaN      NaN  there is a forest fire at spot pond, geese are...\n",
       "3   9     NaN      NaN           Apocalypse lighting. #Spokane #wildfires\n",
       "4  11     NaN      NaN      Typhoon Soudelor kills 28 in China and Taiwan"
      ]
     },
     "metadata": {},
     "output_type": "display_data"
    },
    {
     "name": "stdout",
     "output_type": "stream",
     "text": [
      "Test Set Shape = (3263, 4)\n",
      "\n",
      "Total number of tweets in all data sets = 10876\n"
     ]
    }
   ],
   "source": [
    "path_add = 'C:/Users/kgrit/OneDrive/Documents/UC boulder Data science masters/Intro to deep learning/week 4/assignment rough draft/'\n",
    "df_train = pd.read_csv(path_add + \"data/train.csv\")\n",
    "df_test = pd.read_csv(path_add + \"data/test.csv\")\n",
    "\n",
    "display(df_train.head(n=5))\n",
    "print('Training Set Shape = {}'.format(df_train.shape))\n",
    "display(df_test.head(n=5))\n",
    "print('Test Set Shape = {}'.format(df_test.shape))\n",
    "print('\\nTotal number of tweets in all data sets = {}'.format(df_train.shape[0] + df_test.shape[0]))"
   ]
  },
  {
   "cell_type": "markdown",
   "metadata": {},
   "source": [
    "<p>The training data set has 7,613 tweets while the testing data set has 3,263 tweets, for a grand total of 10,876 tweets in both data sets.</p>"
   ]
  },
  {
   "cell_type": "markdown",
   "metadata": {},
   "source": [
    "<h2>Exploratory Data Analysis (EDA) — Inspect, Visualize and Clean the Data</h2> "
   ]
  },
  {
   "cell_type": "markdown",
   "metadata": {},
   "source": [
    "<h3>EDA - statistics and visualizations</h3>"
   ]
  },
  {
   "cell_type": "markdown",
   "metadata": {},
   "source": [
    "<p>First lets take a quick look at the length of the tweets in question, and some statistics of those lengths.</p>"
   ]
  },
  {
   "cell_type": "code",
   "execution_count": 64,
   "metadata": {},
   "outputs": [
    {
     "name": "stdout",
     "output_type": "stream",
     "text": [
      "Train Length Stat\n",
      "count    7613.000000\n",
      "mean      101.037436\n",
      "std        33.781325\n",
      "min         7.000000\n",
      "25%        78.000000\n",
      "50%       107.000000\n",
      "75%       133.000000\n",
      "max       157.000000\n",
      "Name: length, dtype: float64\n",
      "\n",
      "Test Length Stat\n",
      "count    3263.000000\n",
      "mean      102.108183\n",
      "std        33.972158\n",
      "min         5.000000\n",
      "25%        78.000000\n",
      "50%       109.000000\n",
      "75%       134.000000\n",
      "max       151.000000\n",
      "Name: length, dtype: float64\n"
     ]
    }
   ],
   "source": [
    "df_train[\"length\"] = df_train[\"text\"].apply(lambda x : len(x))\n",
    "df_test[\"length\"] = df_test[\"text\"].apply(lambda x : len(x))\n",
    "\n",
    "print(\"Train Length Stat\")\n",
    "df_train_len_desc = df_train[\"length\"].describe()\n",
    "print(df_train_len_desc)\n",
    "print()\n",
    "\n",
    "print(\"Test Length Stat\")\n",
    "df_test_len_desc = df_test[\"length\"].describe()\n",
    "print(df_test_len_desc)\n",
    "#print(df_test_len_desc['25%'])"
   ]
  },
  {
   "cell_type": "markdown",
   "metadata": {},
   "source": [
    "<p>Above you can see that in the training data set, the average length of a tweet is about 101 characters and based on the quartiles, most tweets are close to or longer than 80 characters, half the maximum allowed. The same is true for the testing data set, along with the other statistics calculated. Below are histogram plots of tweet lengths for each data set.</p>"
   ]
  },
  {
   "cell_type": "code",
   "execution_count": 454,
   "metadata": {},
   "outputs": [],
   "source": [
    "def plot_histograms(df_1_in, df_2_in, len_desc_1_in, len_desc_2_in, titles):\n",
    "    fig, ax = plt.subplots(1, 2, figsize=(10, 5))\n",
    "    x = [df_1_in, df_2_in]\n",
    "    stats = [len_desc_1_in, len_desc_2_in]\n",
    "    \n",
    "    for i in range(2):\n",
    "        n, bins, patches = ax[i].hist(x[i], 42, density=False)\n",
    "        mu = stats[i]['mean']\n",
    "        sigma = stats[i]['std']\n",
    "\n",
    "        ax[i].axvline(mu, color='lightgreen')\n",
    "        ax[i].axvline(stats[i]['25%'], color='magenta')\n",
    "        ax[i].axvline(stats[i]['50%'], color='magenta')\n",
    "        ax[i].axvline(stats[i]['75%'], color='magenta')\n",
    "        max_c = max(n)/3\n",
    "        \n",
    "        percs = ['25%', '50%', '75%']\n",
    "        for j in range(3):\n",
    "            ax[i].text(stats[i][percs[j]], max_c, percs[j], color='white', bbox=dict(boxstyle='square,pad=.2',facecolor='black'))\n",
    "        #ax[i].text(stats[i]['50%'], max_c, '50%', color=t_color)\n",
    "        #ax[i].text(stats[i]['75%'], max_c, '75%', color=t_color)\n",
    "        #ax[i].axvline(stats[i]['25%'], color='orange')\n",
    "\n",
    "        ax[i].set_xlabel('Tweet length')\n",
    "        ax[i].set_ylabel('Tweets counts per given length')\n",
    "\n",
    "        ax[i].set_title(f'Histogram of {titles[i]} tweets:\\n'\n",
    "                    fr'$\\mu={mu:.0f}$, $\\sigma={sigma:.0f}$, count={x[i].shape[0]}')\n",
    "        ax[i].legend(['mean', 'quartiles'])\n",
    "\n",
    "    # Tweak spacing to prevent clipping of ylabel\n",
    "    fig.tight_layout()\n",
    "    plt.show()"
   ]
  },
  {
   "cell_type": "code",
   "execution_count": 455,
   "metadata": {},
   "outputs": [
    {
     "data": {
      "image/png": "[encoded data removed]",
      "text/plain": [
       "<Figure size 1000x500 with 2 Axes>"
      ]
     },
     "metadata": {},
     "output_type": "display_data"
    }
   ],
   "source": [
    "plot_histograms(df_train[\"length\"], df_test[\"length\"], df_train_len_desc, df_test_len_desc, ['Training', 'Testing'])"
   ]
  },
  {
   "cell_type": "markdown",
   "metadata": {},
   "source": [
    "<p>Both data sets have a large number of tweets with character counts around 135. Lets take a look now at some of the tweets with each target value.</p>"
   ]
  },
  {
   "cell_type": "code",
   "execution_count": 456,
   "metadata": {},
   "outputs": [
    {
     "data": {
      "text/html": [
       "<div>\n",
       "<style scoped>\n",
       "    .dataframe tbody tr th:only-of-type {\n",
       "        vertical-align: middle;\n",
       "    }\n",
       "\n",
       "    .dataframe tbody tr th {\n",
       "        vertical-align: top;\n",
       "    }\n",
       "\n",
       "    .dataframe thead th {\n",
       "        text-align: right;\n",
       "    }\n",
       "</style>\n",
       "<table border=\"1\" class=\"dataframe\">\n",
       "  <thead>\n",
       "    <tr style=\"text-align: right;\">\n",
       "      <th></th>\n",
       "      <th>id</th>\n",
       "      <th>keyword</th>\n",
       "      <th>location</th>\n",
       "      <th>text</th>\n",
       "      <th>target</th>\n",
       "      <th>has_url</th>\n",
       "      <th>length</th>\n",
       "      <th>text_clean</th>\n",
       "      <th>length_clean</th>\n",
       "    </tr>\n",
       "  </thead>\n",
       "  <tbody>\n",
       "    <tr>\n",
       "      <th>15</th>\n",
       "      <td>23</td>\n",
       "      <td>NaN</td>\n",
       "      <td>NaN</td>\n",
       "      <td>What's up man?</td>\n",
       "      <td>0</td>\n",
       "      <td>False</td>\n",
       "      <td>14</td>\n",
       "      <td>whats man</td>\n",
       "      <td>9</td>\n",
       "    </tr>\n",
       "    <tr>\n",
       "      <th>16</th>\n",
       "      <td>24</td>\n",
       "      <td>NaN</td>\n",
       "      <td>NaN</td>\n",
       "      <td>I love fruits</td>\n",
       "      <td>0</td>\n",
       "      <td>False</td>\n",
       "      <td>13</td>\n",
       "      <td>love fruits</td>\n",
       "      <td>11</td>\n",
       "    </tr>\n",
       "    <tr>\n",
       "      <th>17</th>\n",
       "      <td>25</td>\n",
       "      <td>NaN</td>\n",
       "      <td>NaN</td>\n",
       "      <td>Summer is lovely</td>\n",
       "      <td>0</td>\n",
       "      <td>False</td>\n",
       "      <td>16</td>\n",
       "      <td>summer lovely</td>\n",
       "      <td>13</td>\n",
       "    </tr>\n",
       "    <tr>\n",
       "      <th>18</th>\n",
       "      <td>26</td>\n",
       "      <td>NaN</td>\n",
       "      <td>NaN</td>\n",
       "      <td>My car is so fast</td>\n",
       "      <td>0</td>\n",
       "      <td>False</td>\n",
       "      <td>17</td>\n",
       "      <td>car fast</td>\n",
       "      <td>8</td>\n",
       "    </tr>\n",
       "    <tr>\n",
       "      <th>19</th>\n",
       "      <td>28</td>\n",
       "      <td>NaN</td>\n",
       "      <td>NaN</td>\n",
       "      <td>What a goooooooaaaaaal!!!!!!</td>\n",
       "      <td>0</td>\n",
       "      <td>False</td>\n",
       "      <td>28</td>\n",
       "      <td>goooooooaaaaaal</td>\n",
       "      <td>15</td>\n",
       "    </tr>\n",
       "    <tr>\n",
       "      <th>20</th>\n",
       "      <td>31</td>\n",
       "      <td>NaN</td>\n",
       "      <td>NaN</td>\n",
       "      <td>this is ridiculous....</td>\n",
       "      <td>0</td>\n",
       "      <td>False</td>\n",
       "      <td>22</td>\n",
       "      <td>ridiculous</td>\n",
       "      <td>10</td>\n",
       "    </tr>\n",
       "    <tr>\n",
       "      <th>21</th>\n",
       "      <td>32</td>\n",
       "      <td>NaN</td>\n",
       "      <td>NaN</td>\n",
       "      <td>London is cool ;)</td>\n",
       "      <td>0</td>\n",
       "      <td>False</td>\n",
       "      <td>17</td>\n",
       "      <td>london cool</td>\n",
       "      <td>12</td>\n",
       "    </tr>\n",
       "    <tr>\n",
       "      <th>22</th>\n",
       "      <td>33</td>\n",
       "      <td>NaN</td>\n",
       "      <td>NaN</td>\n",
       "      <td>Love skiing</td>\n",
       "      <td>0</td>\n",
       "      <td>False</td>\n",
       "      <td>11</td>\n",
       "      <td>love skiing</td>\n",
       "      <td>11</td>\n",
       "    </tr>\n",
       "    <tr>\n",
       "      <th>23</th>\n",
       "      <td>34</td>\n",
       "      <td>NaN</td>\n",
       "      <td>NaN</td>\n",
       "      <td>What a wonderful day!</td>\n",
       "      <td>0</td>\n",
       "      <td>False</td>\n",
       "      <td>21</td>\n",
       "      <td>wonderful day</td>\n",
       "      <td>13</td>\n",
       "    </tr>\n",
       "    <tr>\n",
       "      <th>24</th>\n",
       "      <td>36</td>\n",
       "      <td>NaN</td>\n",
       "      <td>NaN</td>\n",
       "      <td>LOOOOOOL</td>\n",
       "      <td>0</td>\n",
       "      <td>False</td>\n",
       "      <td>8</td>\n",
       "      <td>looooool</td>\n",
       "      <td>8</td>\n",
       "    </tr>\n",
       "  </tbody>\n",
       "</table>\n",
       "</div>"
      ],
      "text/plain": [
       "    id keyword location                          text  target  has_url  \\\n",
       "15  23     NaN      NaN                What's up man?       0    False   \n",
       "16  24     NaN      NaN                 I love fruits       0    False   \n",
       "17  25     NaN      NaN              Summer is lovely       0    False   \n",
       "18  26     NaN      NaN             My car is so fast       0    False   \n",
       "19  28     NaN      NaN  What a goooooooaaaaaal!!!!!!       0    False   \n",
       "20  31     NaN      NaN        this is ridiculous....       0    False   \n",
       "21  32     NaN      NaN             London is cool ;)       0    False   \n",
       "22  33     NaN      NaN                   Love skiing       0    False   \n",
       "23  34     NaN      NaN         What a wonderful day!       0    False   \n",
       "24  36     NaN      NaN                      LOOOOOOL       0    False   \n",
       "\n",
       "    length       text_clean  length_clean  \n",
       "15      14        whats man             9  \n",
       "16      13      love fruits            11  \n",
       "17      16    summer lovely            13  \n",
       "18      17         car fast             8  \n",
       "19      28  goooooooaaaaaal            15  \n",
       "20      22       ridiculous            10  \n",
       "21      17     london cool             12  \n",
       "22      11      love skiing            11  \n",
       "23      21    wonderful day            13  \n",
       "24       8         looooool             8  "
      ]
     },
     "metadata": {},
     "output_type": "display_data"
    },
    {
     "data": {
      "text/html": [
       "<div>\n",
       "<style scoped>\n",
       "    .dataframe tbody tr th:only-of-type {\n",
       "        vertical-align: middle;\n",
       "    }\n",
       "\n",
       "    .dataframe tbody tr th {\n",
       "        vertical-align: top;\n",
       "    }\n",
       "\n",
       "    .dataframe thead th {\n",
       "        text-align: right;\n",
       "    }\n",
       "</style>\n",
       "<table border=\"1\" class=\"dataframe\">\n",
       "  <thead>\n",
       "    <tr style=\"text-align: right;\">\n",
       "      <th></th>\n",
       "      <th>id</th>\n",
       "      <th>keyword</th>\n",
       "      <th>location</th>\n",
       "      <th>text</th>\n",
       "      <th>target</th>\n",
       "      <th>has_url</th>\n",
       "      <th>length</th>\n",
       "      <th>text_clean</th>\n",
       "      <th>length_clean</th>\n",
       "    </tr>\n",
       "  </thead>\n",
       "  <tbody>\n",
       "    <tr>\n",
       "      <th>0</th>\n",
       "      <td>1</td>\n",
       "      <td>NaN</td>\n",
       "      <td>NaN</td>\n",
       "      <td>Our Deeds are the Reason of this #earthquake M...</td>\n",
       "      <td>1</td>\n",
       "      <td>False</td>\n",
       "      <td>69</td>\n",
       "      <td>deeds reason earthquake may allah forgive us</td>\n",
       "      <td>44</td>\n",
       "    </tr>\n",
       "    <tr>\n",
       "      <th>1</th>\n",
       "      <td>4</td>\n",
       "      <td>NaN</td>\n",
       "      <td>NaN</td>\n",
       "      <td>Forest fire near La Ronge Sask. Canada</td>\n",
       "      <td>1</td>\n",
       "      <td>False</td>\n",
       "      <td>38</td>\n",
       "      <td>forest fire near la ronge sask canada</td>\n",
       "      <td>37</td>\n",
       "    </tr>\n",
       "    <tr>\n",
       "      <th>2</th>\n",
       "      <td>5</td>\n",
       "      <td>NaN</td>\n",
       "      <td>NaN</td>\n",
       "      <td>All residents asked to 'shelter in place' are ...</td>\n",
       "      <td>1</td>\n",
       "      <td>False</td>\n",
       "      <td>133</td>\n",
       "      <td>residents asked shelter place notified officer...</td>\n",
       "      <td>88</td>\n",
       "    </tr>\n",
       "    <tr>\n",
       "      <th>3</th>\n",
       "      <td>6</td>\n",
       "      <td>NaN</td>\n",
       "      <td>NaN</td>\n",
       "      <td>13,000 people receive #wildfires evacuation or...</td>\n",
       "      <td>1</td>\n",
       "      <td>False</td>\n",
       "      <td>65</td>\n",
       "      <td>13000 people receive wildfires evacuation orde...</td>\n",
       "      <td>59</td>\n",
       "    </tr>\n",
       "    <tr>\n",
       "      <th>4</th>\n",
       "      <td>7</td>\n",
       "      <td>NaN</td>\n",
       "      <td>NaN</td>\n",
       "      <td>Just got sent this photo from Ruby #Alaska as ...</td>\n",
       "      <td>1</td>\n",
       "      <td>False</td>\n",
       "      <td>88</td>\n",
       "      <td>got sent photo ruby alaska smoke wildfires pou...</td>\n",
       "      <td>55</td>\n",
       "    </tr>\n",
       "    <tr>\n",
       "      <th>5</th>\n",
       "      <td>8</td>\n",
       "      <td>NaN</td>\n",
       "      <td>NaN</td>\n",
       "      <td>#RockyFire Update =&gt; California Hwy. 20 closed...</td>\n",
       "      <td>1</td>\n",
       "      <td>False</td>\n",
       "      <td>110</td>\n",
       "      <td>rockyfire update california hwy 20 closed dire...</td>\n",
       "      <td>90</td>\n",
       "    </tr>\n",
       "    <tr>\n",
       "      <th>6</th>\n",
       "      <td>10</td>\n",
       "      <td>NaN</td>\n",
       "      <td>NaN</td>\n",
       "      <td>#flood #disaster Heavy rain causes flash flood...</td>\n",
       "      <td>1</td>\n",
       "      <td>False</td>\n",
       "      <td>95</td>\n",
       "      <td>flood disaster heavy rain causes flash floodin...</td>\n",
       "      <td>86</td>\n",
       "    </tr>\n",
       "    <tr>\n",
       "      <th>7</th>\n",
       "      <td>13</td>\n",
       "      <td>NaN</td>\n",
       "      <td>NaN</td>\n",
       "      <td>I'm on top of the hill and I can see a fire in...</td>\n",
       "      <td>1</td>\n",
       "      <td>False</td>\n",
       "      <td>59</td>\n",
       "      <td>im top hill see fire woods</td>\n",
       "      <td>26</td>\n",
       "    </tr>\n",
       "    <tr>\n",
       "      <th>8</th>\n",
       "      <td>14</td>\n",
       "      <td>NaN</td>\n",
       "      <td>NaN</td>\n",
       "      <td>There's an emergency evacuation happening now ...</td>\n",
       "      <td>1</td>\n",
       "      <td>False</td>\n",
       "      <td>79</td>\n",
       "      <td>theres emergency evacuation happening building...</td>\n",
       "      <td>60</td>\n",
       "    </tr>\n",
       "    <tr>\n",
       "      <th>9</th>\n",
       "      <td>15</td>\n",
       "      <td>NaN</td>\n",
       "      <td>NaN</td>\n",
       "      <td>I'm afraid that the tornado is coming to our a...</td>\n",
       "      <td>1</td>\n",
       "      <td>False</td>\n",
       "      <td>52</td>\n",
       "      <td>im afraid tornado coming area</td>\n",
       "      <td>29</td>\n",
       "    </tr>\n",
       "  </tbody>\n",
       "</table>\n",
       "</div>"
      ],
      "text/plain": [
       "   id keyword location                                               text  \\\n",
       "0   1     NaN      NaN  Our Deeds are the Reason of this #earthquake M...   \n",
       "1   4     NaN      NaN             Forest fire near La Ronge Sask. Canada   \n",
       "2   5     NaN      NaN  All residents asked to 'shelter in place' are ...   \n",
       "3   6     NaN      NaN  13,000 people receive #wildfires evacuation or...   \n",
       "4   7     NaN      NaN  Just got sent this photo from Ruby #Alaska as ...   \n",
       "5   8     NaN      NaN  #RockyFire Update => California Hwy. 20 closed...   \n",
       "6  10     NaN      NaN  #flood #disaster Heavy rain causes flash flood...   \n",
       "7  13     NaN      NaN  I'm on top of the hill and I can see a fire in...   \n",
       "8  14     NaN      NaN  There's an emergency evacuation happening now ...   \n",
       "9  15     NaN      NaN  I'm afraid that the tornado is coming to our a...   \n",
       "\n",
       "   target  has_url  length                                         text_clean  \\\n",
       "0       1    False      69       deeds reason earthquake may allah forgive us   \n",
       "1       1    False      38              forest fire near la ronge sask canada   \n",
       "2       1    False     133  residents asked shelter place notified officer...   \n",
       "3       1    False      65  13000 people receive wildfires evacuation orde...   \n",
       "4       1    False      88  got sent photo ruby alaska smoke wildfires pou...   \n",
       "5       1    False     110  rockyfire update california hwy 20 closed dire...   \n",
       "6       1    False      95  flood disaster heavy rain causes flash floodin...   \n",
       "7       1    False      59                         im top hill see fire woods   \n",
       "8       1    False      79  theres emergency evacuation happening building...   \n",
       "9       1    False      52                      im afraid tornado coming area   \n",
       "\n",
       "   length_clean  \n",
       "0            44  \n",
       "1            37  \n",
       "2            88  \n",
       "3            59  \n",
       "4            55  \n",
       "5            90  \n",
       "6            86  \n",
       "7            26  \n",
       "8            60  \n",
       "9            29  "
      ]
     },
     "metadata": {},
     "output_type": "display_data"
    }
   ],
   "source": [
    "display(df_train[df_train['target'] == 0].head(n=10))\n",
    "display(df_train[df_train['target'] == 1].head(n=10))"
   ]
  },
  {
   "cell_type": "markdown",
   "metadata": {},
   "source": [
    "<p>It appears from the first few examples of tweets for each target value, the tweets about disasters are generally longer than tweets about other topics. Lets look at a few histograms of the split.</p>"
   ]
  },
  {
   "cell_type": "code",
   "execution_count": 457,
   "metadata": {},
   "outputs": [
    {
     "data": {
      "image/png": "[encoded data removed]",
      "text/plain": [
       "<Figure size 1000x500 with 2 Axes>"
      ]
     },
     "metadata": {},
     "output_type": "display_data"
    }
   ],
   "source": [
    "df_train_0_len_desc = df_train[df_train['target'] == 0][\"length\"].describe()\n",
    "df_train_1_len_desc = df_train[df_train['target'] == 1][\"length\"].describe()\n",
    "plot_histograms(\n",
    "    df_train[df_train['target'] == 0][\"length\"], \n",
    "    df_train[df_train['target'] == 1][\"length\"], \n",
    "    df_train_0_len_desc, \n",
    "    df_train_1_len_desc, \n",
    "    ['\"Target == 0\"', '\"Target == 1\"'],\n",
    ")"
   ]
  },
  {
   "cell_type": "markdown",
   "metadata": {},
   "source": [
    "<p>So same overall distribution of lengths for each target value, though tweets with target == 1 (tweet is about a disaster) have an longer average length and smaller standard deviation.</p>\n"
   ]
  },
  {
   "cell_type": "markdown",
   "metadata": {},
   "source": [
    "<p>You can see in the above prints that there are many additional characters in tweets that are specific to social media and twitter specifically, such as the @ and # symbols. Lets remove all non-english characters and urls. After the text cleaning, lets take one last look at the training data set, split into target = 0 and target = 1.</p>"
   ]
  },
  {
   "cell_type": "code",
   "execution_count": 125,
   "metadata": {},
   "outputs": [],
   "source": [
    "def remove_stopword(text):\n",
    "    remove_stopword = \" \".join([word for word in text.split() if word.lower() not in stopwords.words('english')])\n",
    "\n",
    "    return remove_stopword\n",
    "\n",
    "df_train[\"text_clean\"] = df_train[\"text\"].apply(remove_stopword)\n",
    "df_test[\"text_clean\"] = df_test[\"text\"].apply(remove_stopword) \n",
    "\n",
    "def remove_urls(text, replacement_text=\"\"):\n",
    "    url_pattern = re.compile(r'https?://\\S+|www\\.\\S+')\n",
    "    text_without_urls = url_pattern.sub(replacement_text, text)\n",
    " \n",
    "    return text_without_urls\n",
    "\n",
    "def clean_text(x):\n",
    "    return re.sub(r\"\\s+\", \" \", remove_urls(x).translate(str.maketrans('', '', string.punctuation))).lower()\n",
    "\n",
    "df_train[\"text_clean\"] = df_train[\"text_clean\"].apply(lambda x : clean_text(x)) \n",
    "df_test[\"text_clean\"] = df_test[\"text_clean\"].apply(lambda x : clean_text(x)) \n",
    "\n",
    "df_train[\"length_clean\"] = df_train[\"text_clean\"].apply(lambda x : len(x))\n",
    "df_test[\"length_clean\"] = df_test[\"text_clean\"].apply(lambda x : len(x))\n",
    "\n",
    "#display(df_train[\"text_clean\"].head())\n",
    "#display(df_test[\"text_clean\"].head())\n"
   ]
  },
  {
   "cell_type": "code",
   "execution_count": 458,
   "metadata": {},
   "outputs": [
    {
     "data": {
      "image/png": "[encoded data removed]",
      "text/plain": [
       "<Figure size 1000x500 with 2 Axes>"
      ]
     },
     "metadata": {},
     "output_type": "display_data"
    }
   ],
   "source": [
    "df_train_0_len_desc = df_train[df_train['target'] == 0][\"length_clean\"].describe()\n",
    "df_train_1_len_desc = df_train[df_train['target'] == 1][\"length_clean\"].describe()\n",
    "plot_histograms(\n",
    "    df_train[df_train['target'] == 0][\"length_clean\"], \n",
    "    df_train[df_train['target'] == 1][\"length_clean\"], \n",
    "    df_train_0_len_desc, \n",
    "    df_train_1_len_desc, \n",
    "    ['\"Target == 0\"', '\"Target == 1\"'],\n",
    ")"
   ]
  },
  {
   "cell_type": "markdown",
   "metadata": {},
   "source": [
    "<p>Very drastic change in length distributions for each target value set</p>"
   ]
  },
  {
   "cell_type": "markdown",
   "metadata": {},
   "source": [
    "<h2>Model Architecture</h2>"
   ]
  },
  {
   "cell_type": "markdown",
   "metadata": {},
   "source": [
    "<h3>Data inputs for model fitting</h3>\n",
    "<p>Lets set up the data for use in the model fittings. I'll use the Word2Vec approach and utilize the keras tokenizer() function to convert the tweets to a matrix of integers. Word2Vec works very well in this context because </p>"
   ]
  },
  {
   "cell_type": "code",
   "execution_count": 183,
   "metadata": {},
   "outputs": [],
   "source": [
    "X = df_train[\"text_clean\"]\n",
    "y = df_train[\"target\"]\n",
    "\n",
    "max_features=5000\n",
    "mode_str= 'binary'\n",
    "tokenizer=keras.preprocessing.text.Tokenizer(num_words=max_features,split=' ')\n",
    "tokenizer.fit_on_texts(df_train['text_clean'].values)\n",
    "#X = tokenizer.texts_to_matrix(df_train['text_clean'].values, mode=mode_str)\n",
    "X = tokenizer.texts_to_sequences(df_train['text_clean'].values)\n",
    "X = keras.utils.pad_sequences(X)\n",
    "\n",
    "X_train, X_val, y_train, y_val = train_test_split(X, y, test_size=0.2, random_state=42)\n"
   ]
  },
  {
   "cell_type": "markdown",
   "metadata": {},
   "source": [
    "<p>Below is a test of the tokenizer and bow method. The dictionary relating a column index to a specific word is retrived from the tokenizer and used to verify a given row of the formatted training data can be reconstructed (roughly) to match the original cleaned tweet.</p>"
   ]
  },
  {
   "cell_type": "code",
   "execution_count": 187,
   "metadata": {},
   "outputs": [
    {
     "name": "stdout",
     "output_type": "stream",
     "text": [
      "(6090, 21)\n",
      "test:\n",
      "     ['residents asked shelter place officers evacuation shelter place orders expected']\n",
      "original cleaned tweet:\n",
      "     residents asked shelter place notified officers evacuation shelter place orders expected\n"
     ]
    }
   ],
   "source": [
    "test_row = 2\n",
    "print(X_train.shape)\n",
    "print('test:\\n    ', tokenizer.sequences_to_texts([X[test_row]]))\n",
    "print('original cleaned tweet:\\n    ', df_train.loc[test_row,'text_clean'])"
   ]
  },
  {
   "cell_type": "markdown",
   "metadata": {},
   "source": [
    "<p>Looks good.</p>"
   ]
  },
  {
   "cell_type": "markdown",
   "metadata": {},
   "source": [
    "<h3>Hyperparameter tuning</h3>\n",
    "<p>Every model architecture will have the LSTM, Bi-Dir LSTM, and GRU layer units, Dropout layer dropout rates, and learning rates tuned such that the combination of parameters that produces the model with the highest recall score will be selected as best. The list below shows the values tested:</p>\n",
    "<ul><li>LSTM, Bi-Dir LSTM, and GRU layer units: [16,32,64]</li><li>Dropout layer dropout rates: [0.25, 0.5, 0.75]</li><li>Learning rates: [0.001, 0.0001, 0.00001]</li></ul>"
   ]
  },
  {
   "cell_type": "markdown",
   "metadata": {},
   "source": [
    "<h3>Model architectures</h3>"
   ]
  },
  {
   "cell_type": "markdown",
   "metadata": {},
   "source": [
    "<h4>Long-Short Term Memory (LSTM) architecture</h4>\n",
    "<p>This will be a single layer LSTM model. To help address overfitting, dropout layers are added directly before and after. The metric to maximize in training is recall. The reasoning to use recall is that since these tweets are being judged as being about a disaster or not, you want a model that will get as many true positives and as little false negatives as possible. It is best if the models can accuratly label all the true disaster tweets, even if it mislabels some non-disaster tweets since this model could be used to send out first responders</p>"
   ]
  },
  {
   "cell_type": "code",
   "execution_count": 410,
   "metadata": {},
   "outputs": [],
   "source": [
    "def lstm_model(hp):\n",
    "    \n",
    "    #lstm_out = 32\n",
    "    hp_ltsm_units = hp.Choice(\"units\", [16,32,64])\n",
    "    hp_dropout_frac = hp.Choice(\"dropout_rate\", [0.25, 0.5, 0.75])\n",
    "\n",
    "    embed_dim = 32\n",
    "\n",
    "    model = keras.models.Sequential()\n",
    "    model.add(keras.layers.Embedding(max_features, embed_dim, input_length = X.shape[1]))\n",
    "    model.add(keras.layers.Dropout(hp_dropout_frac))\n",
    "    model.add(keras.layers.LSTM(hp_ltsm_units))\n",
    "    model.add(keras.layers.Dropout(hp_dropout_frac))\n",
    "    model.add(keras.layers.Dense(1,activation='sigmoid'))\n",
    "\n",
    "    hp_lr = hp.Choice(\"learning_rate\", [1e-3, 1e-4, 1e-5])\n",
    "\n",
    "    model.compile(\n",
    "        loss='binary_crossentropy',\n",
    "        optimizer=keras.optimizers.Adam(learning_rate=hp_lr),\n",
    "        metrics= [keras.metrics.Recall()]  \n",
    "    )\n",
    "    \n",
    "    return model"
   ]
  },
  {
   "cell_type": "markdown",
   "metadata": {},
   "source": [
    "<h4>Bi-Directional LSTM architecture</h4>\n",
    "<p>This will be a single layer Bi-Directional LSTM model. To help address overfitting, dropout layers are added directly before and after. An flatten layer is added after the Bi-dir LSTM to format the outputs for the Dense layer to recieve them. The metric to maximize in training is recall</p>"
   ]
  },
  {
   "cell_type": "code",
   "execution_count": 441,
   "metadata": {},
   "outputs": [],
   "source": [
    "def bi_dir_lstm_model(hp):\n",
    "    \n",
    "    hp_ltsm_units = hp.Choice(\"units\", [16,32,64])\n",
    "    hp_dropout_frac = hp.Choice(\"dropout_rate\", [0.25, 0.5, 0.75])\n",
    "\n",
    "    embed_dim = 32\n",
    "\n",
    "    model = keras.models.Sequential()\n",
    "    model.add(keras.layers.Embedding(max_features, embed_dim, input_length = X.shape[1]))\n",
    "    model.add(keras.layers.Dropout(hp_dropout_frac))\n",
    "    model.add(keras.layers.Bidirectional(tf.keras.layers.LSTM(hp_ltsm_units, return_sequences=True)))\n",
    "    model.add(keras.layers.Flatten())\n",
    "    model.add(keras.layers.Dropout(hp_dropout_frac))\n",
    "    model.add(keras.layers.Dense(1,activation='sigmoid'))\n",
    "\n",
    "    hp_lr = hp.Choice(\"learning_rate\", [1e-3, 1e-4, 1e-5])\n",
    "\n",
    "    model.compile(\n",
    "        loss='binary_crossentropy',\n",
    "        optimizer=keras.optimizers.Adam(learning_rate=hp_lr),\n",
    "        metrics= [keras.metrics.Recall()]  \n",
    "    )\n",
    "    \n",
    "    return model"
   ]
  },
  {
   "cell_type": "markdown",
   "metadata": {},
   "source": [
    "<h4>GRU architecture</h4>\n",
    "<p>This will be a single layer GRU model. To help address overfitting, dropout layers are added directly before and after. The metric to maximize in training is recall</p>"
   ]
  },
  {
   "cell_type": "code",
   "execution_count": 427,
   "metadata": {},
   "outputs": [],
   "source": [
    "def gru_model(hp):\n",
    "    \n",
    "    hp_gru_units = hp.Choice(\"units\", [16,32,64])\n",
    "    hp_dropout_frac = hp.Choice(\"dropout_rate\", [0.25, 0.5, 0.75])\n",
    "    embed_dim = 32\n",
    "\n",
    "    model = keras.models.Sequential()\n",
    "    model.add(keras.layers.Embedding(max_features, embed_dim, input_length = X.shape[1]))\n",
    "    model.add(keras.layers.Dropout(hp_dropout_frac))\n",
    "    model.add(tf.keras.layers.GRU(hp_gru_units))\n",
    "    model.add(keras.layers.Dropout(hp_dropout_frac))\n",
    "    model.add(keras.layers.Dense(1,activation='sigmoid'))\n",
    "\n",
    "    hp_lr = hp.Choice(\"learning_rate\", [1e-3, 1e-4, 1e-5])\n",
    "\n",
    "    model.compile(\n",
    "        loss='binary_crossentropy',\n",
    "        optimizer=keras.optimizers.Adam(learning_rate=hp_lr),\n",
    "        metrics= [keras.metrics.Recall()]  \n",
    "    )\n",
    "    \n",
    "    return model"
   ]
  },
  {
   "cell_type": "markdown",
   "metadata": {},
   "source": [
    "<h3>Tuners to find optimal hyperparametrs</h3>"
   ]
  },
  {
   "cell_type": "code",
   "execution_count": 407,
   "metadata": {},
   "outputs": [],
   "source": [
    "tuner_files_dir = 'C:/Users/kgrit/OneDrive/Documents/UC boulder Data science masters/Intro to deep learning/week 4/assignment final'\n",
    "t_objective = keras_tuner.Objective(\"recall\", direction=\"max\")\n",
    "t_max_trials = 50\n",
    "t_overwrite = True\n",
    "t_executions_per_trial = 1"
   ]
  },
  {
   "cell_type": "code",
   "execution_count": 411,
   "metadata": {},
   "outputs": [],
   "source": [
    "tuner_lstm = RandomSearch(\n",
    "    lstm_model,\n",
    "    objective=t_objective,\n",
    "    max_trials=t_max_trials,\n",
    "    overwrite=t_overwrite,\n",
    "    executions_per_trial=t_executions_per_trial,\n",
    "    directory=tuner_files_dir,\n",
    "    project_name='lstm_model')"
   ]
  },
  {
   "cell_type": "code",
   "execution_count": 442,
   "metadata": {},
   "outputs": [],
   "source": [
    "\n",
    "tuner_bi_dir_lstm = RandomSearch(\n",
    "    bi_dir_lstm_model,\n",
    "    objective=t_objective,\n",
    "    max_trials=t_max_trials,\n",
    "    overwrite=t_overwrite,\n",
    "    executions_per_trial=t_executions_per_trial,\n",
    "    directory=tuner_files_dir,\n",
    "    project_name='bi_dir_lstm_model')"
   ]
  },
  {
   "cell_type": "code",
   "execution_count": 429,
   "metadata": {},
   "outputs": [],
   "source": [
    "tuner_gru = RandomSearch(\n",
    "    gru_model,\n",
    "    objective=t_objective,\n",
    "    max_trials=t_max_trials,\n",
    "    overwrite=t_overwrite,\n",
    "    executions_per_trial=t_executions_per_trial,\n",
    "    directory=tuner_files_dir,\n",
    "    project_name='gru_model')"
   ]
  },
  {
   "cell_type": "markdown",
   "metadata": {},
   "source": [
    "<h2>Results and Analysis</h2>"
   ]
  },
  {
   "cell_type": "markdown",
   "metadata": {},
   "source": [
    "<p>Now lets run the tuners and find the best set of hyperparameters for each model architecture.</p>"
   ]
  },
  {
   "cell_type": "code",
   "execution_count": 412,
   "metadata": {},
   "outputs": [
    {
     "name": "stdout",
     "output_type": "stream",
     "text": [
      "Trial 27 Complete [00h 00m 19s]\n",
      "recall: 0.8779557347297668\n",
      "\n",
      "Best recall So Far: 0.8802440762519836\n",
      "Total elapsed time: 00h 07m 51s\n",
      "WARNING:tensorflow:Detecting that an object or model or tf.train.Checkpoint is being deleted with unrestored values. See the following logs for the specific values in question. To silence these warnings, use `status.expect_partial()`. See https://www.tensorflow.org/api_docs/python/tf/train/Checkpoint#restorefor details about the status object returned by the restore function.\n",
      "WARNING:tensorflow:Value in checkpoint could not be found in the restored object: (root).optimizer.iter\n",
      "WARNING:tensorflow:Value in checkpoint could not be found in the restored object: (root).optimizer.beta_1\n",
      "WARNING:tensorflow:Value in checkpoint could not be found in the restored object: (root).optimizer.beta_2\n",
      "WARNING:tensorflow:Value in checkpoint could not be found in the restored object: (root).optimizer.decay\n",
      "WARNING:tensorflow:Value in checkpoint could not be found in the restored object: (root).optimizer.learning_rate\n",
      "WARNING:tensorflow:Detecting that an object or model or tf.train.Checkpoint is being deleted with unrestored values. See the following logs for the specific values in question. To silence these warnings, use `status.expect_partial()`. See https://www.tensorflow.org/api_docs/python/tf/train/Checkpoint#restorefor details about the status object returned by the restore function.\n",
      "WARNING:tensorflow:Value in checkpoint could not be found in the restored object: (root).optimizer.iter\n",
      "WARNING:tensorflow:Value in checkpoint could not be found in the restored object: (root).optimizer.beta_1\n",
      "WARNING:tensorflow:Value in checkpoint could not be found in the restored object: (root).optimizer.beta_2\n",
      "WARNING:tensorflow:Value in checkpoint could not be found in the restored object: (root).optimizer.decay\n",
      "WARNING:tensorflow:Value in checkpoint could not be found in the restored object: (root).optimizer.learning_rate\n"
     ]
    }
   ],
   "source": [
    "tuner_lstm.search(X_train, y_train, epochs=5, validation_data=(X_val, y_val))\n",
    "models_lstm = tuner_lstm.get_best_models(num_models=2)\n",
    "best_model_lstm = models_lstm[0]"
   ]
  },
  {
   "cell_type": "code",
   "execution_count": 413,
   "metadata": {},
   "outputs": [
    {
     "name": "stdout",
     "output_type": "stream",
     "text": [
      "{'units': 16, 'dropout_rate': 0.25, 'learning_rate': 0.001}\n",
      "Model: \"sequential\"\n",
      "_________________________________________________________________\n",
      " Layer (type)                Output Shape              Param #   \n",
      "=================================================================\n",
      " embedding (Embedding)       (None, 21, 32)            160000    \n",
      "                                                                 \n",
      " dropout (Dropout)           (None, 21, 32)            0         \n",
      "                                                                 \n",
      " lstm (LSTM)                 (None, 16)                3136      \n",
      "                                                                 \n",
      " dropout_1 (Dropout)         (None, 16)                0         \n",
      "                                                                 \n",
      " dense (Dense)               (None, 1)                 17        \n",
      "                                                                 \n",
      "=================================================================\n",
      "Total params: 163,153\n",
      "Trainable params: 163,153\n",
      "Non-trainable params: 0\n",
      "_________________________________________________________________\n"
     ]
    }
   ],
   "source": [
    "best_hps_lstm = tuner_lstm.get_best_hyperparameters(1)[0]\n",
    "print(best_hps_lstm.values)\n",
    "best_model_lstm.summary()"
   ]
  },
  {
   "cell_type": "code",
   "execution_count": 443,
   "metadata": {},
   "outputs": [
    {
     "name": "stdout",
     "output_type": "stream",
     "text": [
      "Trial 26 Complete [00h 00m 21s]\n",
      "recall: 0.8935926556587219\n",
      "\n",
      "Best recall So Far: 0.8985507488250732\n",
      "Total elapsed time: 00h 08m 58s\n",
      "WARNING:tensorflow:Detecting that an object or model or tf.train.Checkpoint is being deleted with unrestored values. See the following logs for the specific values in question. To silence these warnings, use `status.expect_partial()`. See https://www.tensorflow.org/api_docs/python/tf/train/Checkpoint#restorefor details about the status object returned by the restore function.\n",
      "WARNING:tensorflow:Value in checkpoint could not be found in the restored object: (root).optimizer.iter\n",
      "WARNING:tensorflow:Value in checkpoint could not be found in the restored object: (root).optimizer.beta_1\n",
      "WARNING:tensorflow:Value in checkpoint could not be found in the restored object: (root).optimizer.beta_2\n",
      "WARNING:tensorflow:Value in checkpoint could not be found in the restored object: (root).optimizer.decay\n",
      "WARNING:tensorflow:Value in checkpoint could not be found in the restored object: (root).optimizer.learning_rate\n",
      "WARNING:tensorflow:Detecting that an object or model or tf.train.Checkpoint is being deleted with unrestored values. See the following logs for the specific values in question. To silence these warnings, use `status.expect_partial()`. See https://www.tensorflow.org/api_docs/python/tf/train/Checkpoint#restorefor details about the status object returned by the restore function.\n",
      "WARNING:tensorflow:Value in checkpoint could not be found in the restored object: (root).optimizer.iter\n",
      "WARNING:tensorflow:Value in checkpoint could not be found in the restored object: (root).optimizer.beta_1\n",
      "WARNING:tensorflow:Value in checkpoint could not be found in the restored object: (root).optimizer.beta_2\n",
      "WARNING:tensorflow:Value in checkpoint could not be found in the restored object: (root).optimizer.decay\n",
      "WARNING:tensorflow:Value in checkpoint could not be found in the restored object: (root).optimizer.learning_rate\n"
     ]
    }
   ],
   "source": [
    "tuner_bi_dir_lstm.search(X_train, y_train, epochs=5, validation_data=(X_val, y_val))\n",
    "models_bi_dir_lstm = tuner_bi_dir_lstm.get_best_models(num_models=2)\n",
    "best_model_bi_dir_lstm = models_bi_dir_lstm[0]"
   ]
  },
  {
   "cell_type": "code",
   "execution_count": 444,
   "metadata": {},
   "outputs": [
    {
     "name": "stdout",
     "output_type": "stream",
     "text": [
      "{'units': 32, 'dropout_rate': 0.25, 'learning_rate': 0.001}\n",
      "Model: \"sequential\"\n",
      "_________________________________________________________________\n",
      " Layer (type)                Output Shape              Param #   \n",
      "=================================================================\n",
      " embedding (Embedding)       (None, 21, 32)            160000    \n",
      "                                                                 \n",
      " dropout (Dropout)           (None, 21, 32)            0         \n",
      "                                                                 \n",
      " bidirectional (Bidirectiona  (None, 21, 64)           16640     \n",
      " l)                                                              \n",
      "                                                                 \n",
      " flatten (Flatten)           (None, 1344)              0         \n",
      "                                                                 \n",
      " dropout_1 (Dropout)         (None, 1344)              0         \n",
      "                                                                 \n",
      " dense (Dense)               (None, 1)                 1345      \n",
      "                                                                 \n",
      "=================================================================\n",
      "Total params: 177,985\n",
      "Trainable params: 177,985\n",
      "Non-trainable params: 0\n",
      "_________________________________________________________________\n"
     ]
    }
   ],
   "source": [
    "best_hps_bi_dir_lstm = tuner_bi_dir_lstm.get_best_hyperparameters(1)[0]\n",
    "print(best_hps_bi_dir_lstm.values)\n",
    "best_model_bi_dir_lstm.summary()"
   ]
  },
  {
   "cell_type": "code",
   "execution_count": 431,
   "metadata": {},
   "outputs": [
    {
     "name": "stdout",
     "output_type": "stream",
     "text": [
      "Trial 27 Complete [00h 00m 17s]\n",
      "recall: 0.7711670398712158\n",
      "\n",
      "Best recall So Far: 0.8989320993423462\n",
      "Total elapsed time: 00h 07m 30s\n",
      "WARNING:tensorflow:Detecting that an object or model or tf.train.Checkpoint is being deleted with unrestored values. See the following logs for the specific values in question. To silence these warnings, use `status.expect_partial()`. See https://www.tensorflow.org/api_docs/python/tf/train/Checkpoint#restorefor details about the status object returned by the restore function.\n",
      "WARNING:tensorflow:Value in checkpoint could not be found in the restored object: (root).optimizer.iter\n",
      "WARNING:tensorflow:Value in checkpoint could not be found in the restored object: (root).optimizer.beta_1\n",
      "WARNING:tensorflow:Value in checkpoint could not be found in the restored object: (root).optimizer.beta_2\n",
      "WARNING:tensorflow:Value in checkpoint could not be found in the restored object: (root).optimizer.decay\n",
      "WARNING:tensorflow:Value in checkpoint could not be found in the restored object: (root).optimizer.learning_rate\n",
      "WARNING:tensorflow:Detecting that an object or model or tf.train.Checkpoint is being deleted with unrestored values. See the following logs for the specific values in question. To silence these warnings, use `status.expect_partial()`. See https://www.tensorflow.org/api_docs/python/tf/train/Checkpoint#restorefor details about the status object returned by the restore function.\n",
      "WARNING:tensorflow:Value in checkpoint could not be found in the restored object: (root).optimizer.iter\n",
      "WARNING:tensorflow:Value in checkpoint could not be found in the restored object: (root).optimizer.beta_1\n",
      "WARNING:tensorflow:Value in checkpoint could not be found in the restored object: (root).optimizer.beta_2\n",
      "WARNING:tensorflow:Value in checkpoint could not be found in the restored object: (root).optimizer.decay\n",
      "WARNING:tensorflow:Value in checkpoint could not be found in the restored object: (root).optimizer.learning_rate\n"
     ]
    }
   ],
   "source": [
    "tuner_gru.search(X_train, y_train, epochs=5, validation_data=(X_val, y_val))\n",
    "models_gru = tuner_gru.get_best_models(num_models=2)\n",
    "best_model_gru = models_gru[0]"
   ]
  },
  {
   "cell_type": "code",
   "execution_count": 432,
   "metadata": {},
   "outputs": [
    {
     "name": "stdout",
     "output_type": "stream",
     "text": [
      "{'units': 32, 'dropout_rate': 0.25, 'learning_rate': 0.001}\n",
      "Model: \"sequential\"\n",
      "_________________________________________________________________\n",
      " Layer (type)                Output Shape              Param #   \n",
      "=================================================================\n",
      " embedding (Embedding)       (None, 21, 32)            160000    \n",
      "                                                                 \n",
      " dropout (Dropout)           (None, 21, 32)            0         \n",
      "                                                                 \n",
      " gru (GRU)                   (None, 32)                6336      \n",
      "                                                                 \n",
      " dropout_1 (Dropout)         (None, 32)                0         \n",
      "                                                                 \n",
      " dense (Dense)               (None, 1)                 33        \n",
      "                                                                 \n",
      "=================================================================\n",
      "Total params: 166,369\n",
      "Trainable params: 166,369\n",
      "Non-trainable params: 0\n",
      "_________________________________________________________________\n"
     ]
    }
   ],
   "source": [
    "best_hps_gru = tuner_gru.get_best_hyperparameters(1)[0]\n",
    "print(best_hps_gru.values)\n",
    "best_model_gru.summary()"
   ]
  },
  {
   "cell_type": "markdown",
   "metadata": {},
   "source": [
    "<h3>Best model fitting for LTSM, Bi-LSTM, and GRU models</h3>"
   ]
  },
  {
   "cell_type": "markdown",
   "metadata": {},
   "source": [
    "<p>Here the haperparameters from the bost models found earlier will be used to construct and train new models for the hyperparameters given architecture. To guard against overfitting, the models will have a callback that will stop fitting when the validation loss increases in value continuously over two epochs. If that is detected and the fitting is stopped, the weights of the best performing (lowest loss) epoch will be restored.</p>"
   ]
  },
  {
   "cell_type": "code",
   "execution_count": 215,
   "metadata": {},
   "outputs": [],
   "source": [
    "batch_size = 32\n",
    "epochs = 10"
   ]
  },
  {
   "cell_type": "code",
   "execution_count": 414,
   "metadata": {},
   "outputs": [
    {
     "name": "stdout",
     "output_type": "stream",
     "text": [
      "Epoch 1/10\n"
     ]
    },
    {
     "name": "stdout",
     "output_type": "stream",
     "text": [
      "191/191 [==============================] - 5s 20ms/step - loss: 0.6133 - recall_1: 0.2689 - val_loss: 0.4814 - val_recall_1: 0.6610\n",
      "Epoch 2/10\n",
      "191/191 [==============================] - 3s 17ms/step - loss: 0.3944 - recall_1: 0.7639 - val_loss: 0.4453 - val_recall_1: 0.7011\n",
      "Epoch 3/10\n",
      "191/191 [==============================] - 3s 18ms/step - loss: 0.3116 - recall_1: 0.8173 - val_loss: 0.4775 - val_recall_1: 0.7257\n",
      "Epoch 4/10\n",
      "191/191 [==============================] - 3s 18ms/step - loss: 0.2590 - recall_1: 0.8574 - val_loss: 0.5496 - val_recall_1: 0.7304\n"
     ]
    }
   ],
   "source": [
    "callbacks_lstm = [\n",
    "    keras.callbacks.ModelCheckpoint(filepath=\"final_lstm_model\\model_at_epoch_{epoch}.keras\"),\n",
    "    keras.callbacks.EarlyStopping(monitor=\"val_loss\", patience=2, restore_best_weights=True),\n",
    "]\n",
    "\n",
    "final_lstm_model = lstm_model(best_hps_lstm)\n",
    "\n",
    "final_lstm_model_history = final_lstm_model.fit(\n",
    "    X_train, \n",
    "    y_train,\n",
    "    validation_data=(X_val, y_val),\n",
    "    batch_size=batch_size,\n",
    "    epochs=epochs,\n",
    "    callbacks=callbacks_lstm,\n",
    ")"
   ]
  },
  {
   "cell_type": "code",
   "execution_count": 461,
   "metadata": {},
   "outputs": [],
   "source": [
    "final_lstm_model.save(\"final_lstm_model.keras\")"
   ]
  },
  {
   "cell_type": "code",
   "execution_count": 255,
   "metadata": {},
   "outputs": [
    {
     "name": "stdout",
     "output_type": "stream",
     "text": [
      "Epoch 1/10\n"
     ]
    },
    {
     "name": "stdout",
     "output_type": "stream",
     "text": [
      "191/191 [==============================] - 3s 10ms/step - loss: 0.5857 - accuracy: 0.6855 - val_loss: 0.4833 - val_accuracy: 0.7953\n",
      "Epoch 2/10\n",
      "191/191 [==============================] - 1s 7ms/step - loss: 0.3840 - accuracy: 0.8448 - val_loss: 0.4525 - val_accuracy: 0.7968\n",
      "Epoch 3/10\n",
      "191/191 [==============================] - 1s 7ms/step - loss: 0.3088 - accuracy: 0.8831 - val_loss: 0.4983 - val_accuracy: 0.7892\n",
      "Epoch 4/10\n",
      "191/191 [==============================] - 1s 7ms/step - loss: 0.2555 - accuracy: 0.9072 - val_loss: 0.5087 - val_accuracy: 0.7840\n"
     ]
    }
   ],
   "source": [
    "callbacks_bi_dir_lstm = [\n",
    "    keras.callbacks.ModelCheckpoint(filepath=\"final_bi_dir_lstm_model\\model_at_epoch_{epoch}.keras\"),\n",
    "    keras.callbacks.EarlyStopping(monitor=\"val_loss\", patience=2, restore_best_weights=True),\n",
    "]\n",
    "\n",
    "final_bi_dir_lstm_model = bi_dir_lstm_model(best_hps_bi_dir_lstm)\n",
    "\n",
    "final_bi_dir_lstm_model_history = final_bi_dir_lstm_model.fit(\n",
    "    X_train, \n",
    "    y_train,\n",
    "    validation_data=(X_val, y_val),\n",
    "    batch_size=batch_size,\n",
    "    epochs=epochs,\n",
    "    callbacks=callbacks_bi_dir_lstm,\n",
    ")"
   ]
  },
  {
   "cell_type": "code",
   "execution_count": 460,
   "metadata": {},
   "outputs": [],
   "source": [
    "final_bi_dir_lstm_model.save(\"final_bi_dir_lstm_model.keras\")"
   ]
  },
  {
   "cell_type": "code",
   "execution_count": 462,
   "metadata": {},
   "outputs": [
    {
     "name": "stdout",
     "output_type": "stream",
     "text": [
      "Epoch 1/10\n",
      " 98/191 [==============>...............] - ETA: 0s - loss: 0.6631 - recall_1: 0.1163"
     ]
    },
    {
     "name": "stdout",
     "output_type": "stream",
     "text": [
      "191/191 [==============================] - 2s 5ms/step - loss: 0.5867 - recall_1: 0.3642 - val_loss: 0.4547 - val_recall_1: 0.6333\n",
      "Epoch 2/10\n",
      "191/191 [==============================] - 1s 4ms/step - loss: 0.3663 - recall_1: 0.7674 - val_loss: 0.4652 - val_recall_1: 0.6965\n",
      "Epoch 3/10\n",
      "191/191 [==============================] - 1s 4ms/step - loss: 0.2862 - recall_1: 0.8288 - val_loss: 0.5195 - val_recall_1: 0.7504\n"
     ]
    }
   ],
   "source": [
    "callbacks_gru = [\n",
    "    keras.callbacks.ModelCheckpoint(filepath=\"final_gru_model\\model_at_epoch_{epoch}.keras\"),\n",
    "    keras.callbacks.EarlyStopping(monitor=\"val_loss\", patience=2, restore_best_weights=True),\n",
    "]\n",
    "\n",
    "final_gru_model = gru_model(best_hps_gru)\n",
    "\n",
    "final_gru_model_history = final_gru_model.fit(\n",
    "    X_train, \n",
    "    y_train,\n",
    "    validation_data=(X_val, y_val),\n",
    "    batch_size=batch_size,\n",
    "    epochs=epochs,\n",
    "    callbacks=callbacks_lstm,\n",
    ")"
   ]
  },
  {
   "cell_type": "code",
   "execution_count": 459,
   "metadata": {},
   "outputs": [],
   "source": [
    "final_gru_model.save(\"final_gru_model.keras\")"
   ]
  },
  {
   "cell_type": "markdown",
   "metadata": {},
   "source": [
    "<h2>Results and Analysis (35 pts)</h2>\n",
    "\n",
    "Run hyperparameter tuning, try different architectures for comparison, apply techniques to improve training or performance, and discuss what helped.\n",
    "\n",
    "Includes results with tables and figures. There is an analysis of why or why not something worked well, troubleshooting, and a hyperparameter optimization procedure summary."
   ]
  },
  {
   "cell_type": "markdown",
   "metadata": {},
   "source": [
    "<h3>Hyperparameter optimization procedure summary</h3>\n",
    "<p>As stated previously, the main layers unit number, the dense layer drop out rate, and the learning rates were all tunedto find the best performing models for each of the three architectures.</p>\n",
    "<p>The procedure was simply:</p>\n",
    "<ol><li>Generate the list of all combinations of hyperparameters to test and what metric to judge the models by using keras_tuner</li><li>Train one model per each hyperparamter set for 5 epochs</li><li>Choose the model + hyperparamter set that achieved the highest recall score</li></ol>\n"
   ]
  },
  {
   "cell_type": "markdown",
   "metadata": {},
   "source": [
    "<h3>Final model confusion matrices and Hyperparameter recall score breakdown</h3>\n",
    "<p>Below are charts that show how every hyperparamter set scored with regards to recall for all architectures. Also, there are confusion matrices that showcase how each final model did when predicting the disaster/not disaster label of tweets in the training set and validation set.</p>"
   ]
  },
  {
   "cell_type": "code",
   "execution_count": 513,
   "metadata": {},
   "outputs": [],
   "source": [
    "\n",
    "def displayConfusionMatrix(y_true_train, y_pred_train, y_true_val, y_pred_val, model):\n",
    "\n",
    "    fig, ax = plt.subplots(1,2, figsize=(10, 4))\n",
    "\n",
    "    y_pred_train = pd.Series(np.round(y_pred_train).reshape(y_pred_train.shape[0]))\n",
    "    y_pred_val = pd.Series(np.round(y_pred_val).reshape(y_pred_val.shape[0]))\n",
    "    \n",
    "    disp_1 = ConfusionMatrixDisplay.from_predictions(\n",
    "        y_true_train,\n",
    "        #np.argmax(y_pred, axis=1),\n",
    "        y_pred_train,\n",
    "        normalize='true',\n",
    "        display_labels=[\"Not Disaster\",\"Disaster\"],\n",
    "        ax=ax[0], cmap=plt.cm.Blues\n",
    "    )\n",
    "\n",
    "    disp_2 = ConfusionMatrixDisplay.from_predictions(\n",
    "        y_true_val,\n",
    "        #np.argmax(y_pred, axis=1),\n",
    "        y_pred_val,\n",
    "        normalize='true',\n",
    "        display_labels=[\"Not Disaster\",\"Disaster\"],\n",
    "        ax=ax[1], cmap=plt.cm.Greens\n",
    "    )\n",
    "\n",
    "    #tn, fp, fn, tp = confusion_matrix(y_true, np.argmax(y_pred, axis=1)).ravel()\n",
    "    def calc_f1_score(y_true, y_pred):\n",
    "        tn, fp, fn, tp = confusion_matrix(y_true, y_pred).ravel()\n",
    "        f1_score = tp / (tp+((fn+fp)/2))\n",
    "        recall_score = tp/(tp + fn)\n",
    "        return [['recall', recall_score], ['F1', f1_score]]\n",
    "\n",
    "    score_1 = calc_f1_score(y_true_train, y_pred_train)\n",
    "    score_2 = calc_f1_score(y_true_val, y_pred_val)\n",
    "\n",
    "    \n",
    "\n",
    "    disp_1.ax_.set_title(f\"{model}\\nConfusion Matrix on Training Dataset\\ntrain {score_1[0][0]} Score: {str(score_1[0][1].round(3))}\\ntrain {score_1[1][0]} Score: {str(score_1[1][1].round(3))}\")\n",
    "    disp_2.ax_.set_title(f\"{model}\\nConfusion Matrix on Validation Dataset\\nval {score_2[0][0]} Score: {str(score_2[0][1].round(3))}\\ntrain {score_2[1][0]} Score: {str(score_2[1][1].round(3))}\")\n",
    "    \n",
    "    fig.tight_layout()\n"
   ]
  },
  {
   "cell_type": "code",
   "execution_count": 416,
   "metadata": {},
   "outputs": [],
   "source": [
    "import os.path\n",
    "def make_dfs_for_alt(tuner_in):\n",
    "    trial_list = [\"%02d\" % (i,) for i in range(28)]\n",
    "    cols_to_get_hp = ['units', 'dropout_rate', 'learning_rate'] \n",
    "    cols_to_get_scores = ['loss', 'recall', 'val_loss', 'val_recall']\n",
    "\n",
    "    data_for_plot = {col: [0 for i in range(28)] for col in cols_to_get_hp + cols_to_get_scores}\n",
    "                    \n",
    "    for ind, trial_num in enumerate(trial_list):\n",
    "        trial_path_f = tuner_in.get_trial_dir(trial_id=trial_num) + '\\\\trial.json'\n",
    "        if os.path.isfile(trial_path_f):\n",
    "            trial_path = open(trial_path_f)\n",
    "            trial_data = json.load(trial_path)\n",
    "\n",
    "            for col in cols_to_get_hp:\n",
    "                data_for_plot[col][ind] = trial_data['hyperparameters']['values'][col]\n",
    "            for col in cols_to_get_scores:\n",
    "                data_for_plot[col][ind] = trial_data['metrics']['metrics'][col]['observations'][0]['value'][0]\n",
    "\n",
    "            trial_path.close()\n",
    "\n",
    "    return pd.DataFrame(data=data_for_plot)\n"
   ]
  },
  {
   "cell_type": "code",
   "execution_count": 421,
   "metadata": {},
   "outputs": [],
   "source": [
    "\n",
    "def print_alt(df_in):\n",
    "    feat_1 = 'dropout_rate'\n",
    "    feat_2 = 'units'\n",
    "    feat_3 = 'recall'\n",
    "    chart1 = alt.Chart(df_in, title=f\"Training {feat_3}\").mark_line().encode(\n",
    "        alt.X('learning_rate').scale(zero=False, type=\"log\"),\n",
    "        #alt.X('learning_rate').scale(zero=False),\n",
    "        alt.Y(feat_3).scale(zero=False, padding=1),\n",
    "        alt.Color(f'{feat_2}:N').scale(zero=False),\n",
    "        strokeDash=feat_1,\n",
    "    )\n",
    "\n",
    "    chart2 = alt.Chart(df_in, title=\"Training loss\").mark_line().encode(\n",
    "        alt.X('learning_rate').scale(zero=False, type=\"log\"),\n",
    "        #alt.X('learning_rate').scale(zero=False),\n",
    "        alt.Y('loss').scale(zero=False, padding=1),\n",
    "        alt.Color(f'{feat_2}:N').scale(zero=False),\n",
    "        strokeDash=feat_1,\n",
    "    )\n",
    "\n",
    "\n",
    "    chart3 = alt.Chart(df_in, title=f\"Validation {feat_3}\").mark_line().encode(\n",
    "        alt.X('learning_rate').scale(zero=False, type=\"log\"),\n",
    "        #alt.X('learning_rate').scale(zero=False),\n",
    "        alt.Y(f'val_{feat_3}').scale(zero=False, padding=1),\n",
    "        alt.Color(f'{feat_2}:N').scale(zero=False),\n",
    "        strokeDash=feat_1,\n",
    "    )\n",
    "\n",
    "    chart4 = alt.Chart(df_in, title=\"Validation loss\").mark_line().encode(\n",
    "        alt.X('learning_rate').scale(zero=False, type=\"log\"),\n",
    "        #alt.X('learning_rate').scale(zero=False),\n",
    "        alt.Y('val_loss').scale(zero=False, padding=1),\n",
    "        alt.Color(f'{feat_2}:N').scale(zero=False),\n",
    "        strokeDash=f'{feat_1}:N',\n",
    "    )\n",
    "\n",
    "    #alt.vconcat((chart1 | chart2), (chart3_1 | chart4)).show()\n",
    "    (chart1 | chart2).show()\n",
    "    (chart3 | chart4).show()\n",
    "    #(chart1 | chart2 | chart3 | chart4).show()"
   ]
  },
  {
   "cell_type": "markdown",
   "metadata": {},
   "source": [
    "<h3>Assessment of LSTM model</h3>\n"
   ]
  },
  {
   "cell_type": "code",
   "execution_count": 417,
   "metadata": {},
   "outputs": [],
   "source": [
    "hp_lstm_df = make_dfs_for_alt(tuner_lstm)\n",
    "hp_lstm_df = hp_lstm_df[hp_lstm_df['units'] > 0]"
   ]
  },
  {
   "cell_type": "code",
   "execution_count": 422,
   "metadata": {},
   "outputs": [
    {
     "name": "stdout",
     "output_type": "stream",
     "text": [
      "{'units': 16, 'dropout_rate': 0.25, 'learning_rate': 0.001}\n"
     ]
    },
    {
     "data": {
      "text/html": [
       "\n",
       "<style>\n",
       "  #altair-viz-2e52fc6367554f8b88aee1f3bb2659e5.vega-embed {\n",
       "    width: 100%;\n",
       "    display: flex;\n",
       "  }\n",
       "\n",
       "  #altair-viz-2e52fc6367554f8b88aee1f3bb2659e5.vega-embed details,\n",
       "  #altair-viz-2e52fc6367554f8b88aee1f3bb2659e5.vega-embed details summary {\n",
       "    position: relative;\n",
       "  }\n",
       "</style>\n",
       "<div id=\"altair-viz-2e52fc6367554f8b88aee1f3bb2659e5\"></div>\n",
       "<script type=\"text/javascript\">\n",
       "  var VEGA_DEBUG = (typeof VEGA_DEBUG == \"undefined\") ? {} : VEGA_DEBUG;\n",
       "  (function(spec, embedOpt){\n",
       "    let outputDiv = document.currentScript.previousElementSibling;\n",
       "    if (outputDiv.id !== \"altair-viz-2e52fc6367554f8b88aee1f3bb2659e5\") {\n",
       "      outputDiv = document.getElementById(\"altair-viz-2e52fc6367554f8b88aee1f3bb2659e5\");\n",
       "    }\n",
       "    const paths = {\n",
       "      \"vega\": \"https://cdn.jsdelivr.net/npm/vega@5?noext\",\n",
       "      \"vega-lib\": \"https://cdn.jsdelivr.net/npm/vega-lib?noext\",\n",
       "      \"vega-lite\": \"https://cdn.jsdelivr.net/npm/vega-lite@5.17.0?noext\",\n",
       "      \"vega-embed\": \"https://cdn.jsdelivr.net/npm/vega-embed@6?noext\",\n",
       "    };\n",
       "\n",
       "    function maybeLoadScript(lib, version) {\n",
       "      var key = `${lib.replace(\"-\", \"\")}_version`;\n",
       "      return (VEGA_DEBUG[key] == version) ?\n",
       "        Promise.resolve(paths[lib]) :\n",
       "        new Promise(function(resolve, reject) {\n",
       "          var s = document.createElement('script');\n",
       "          document.getElementsByTagName(\"head\")[0].appendChild(s);\n",
       "          s.async = true;\n",
       "          s.onload = () => {\n",
       "            VEGA_DEBUG[key] = version;\n",
       "            return resolve(paths[lib]);\n",
       "          };\n",
       "          s.onerror = () => reject(`Error loading script: ${paths[lib]}`);\n",
       "          s.src = paths[lib];\n",
       "        });\n",
       "    }\n",
       "\n",
       "    function showError(err) {\n",
       "      outputDiv.innerHTML = `<div class=\"error\" style=\"color:red;\">${err}</div>`;\n",
       "      throw err;\n",
       "    }\n",
       "\n",
       "    function displayChart(vegaEmbed) {\n",
       "      vegaEmbed(outputDiv, spec, embedOpt)\n",
       "        .catch(err => showError(`Javascript Error: ${err.message}<br>This usually means there's a typo in your chart specification. See the javascript console for the full traceback.`));\n",
       "    }\n",
       "\n",
       "    if(typeof define === \"function\" && define.amd) {\n",
       "      requirejs.config({paths});\n",
       "      require([\"vega-embed\"], displayChart, err => showError(`Error loading script: ${err.message}`));\n",
       "    } else {\n",
       "      maybeLoadScript(\"vega\", \"5\")\n",
       "        .then(() => maybeLoadScript(\"vega-lite\", \"5.17.0\"))\n",
       "        .then(() => maybeLoadScript(\"vega-embed\", \"6\"))\n",
       "        .catch(showError)\n",
       "        .then(() => displayChart(vegaEmbed));\n",
       "    }\n",
       "  })({\"config\": {\"view\": {\"continuousWidth\": 300, \"continuousHeight\": 300}}, \"hconcat\": [{\"mark\": {\"type\": \"line\"}, \"encoding\": {\"color\": {\"field\": \"units\", \"scale\": {\"zero\": false}, \"type\": \"nominal\"}, \"strokeDash\": {\"field\": \"dropout_rate\", \"type\": \"quantitative\"}, \"x\": {\"field\": \"learning_rate\", \"scale\": {\"zero\": false, \"type\": \"log\"}, \"type\": \"quantitative\"}, \"y\": {\"field\": \"recall\", \"scale\": {\"zero\": false, \"padding\": 1}, \"type\": \"quantitative\"}}, \"title\": \"Training recall\"}, {\"mark\": {\"type\": \"line\"}, \"encoding\": {\"color\": {\"field\": \"units\", \"scale\": {\"zero\": false}, \"type\": \"nominal\"}, \"strokeDash\": {\"field\": \"dropout_rate\", \"type\": \"quantitative\"}, \"x\": {\"field\": \"learning_rate\", \"scale\": {\"zero\": false, \"type\": \"log\"}, \"type\": \"quantitative\"}, \"y\": {\"field\": \"loss\", \"scale\": {\"zero\": false, \"padding\": 1}, \"type\": \"quantitative\"}}, \"title\": \"Training loss\"}], \"data\": {\"name\": \"data-1b219d6ce4476f780870ec847994fa36\"}, \"$schema\": \"https://vega.github.io/schema/vega-lite/v5.17.0.json\", \"datasets\": {\"data-1b219d6ce4476f780870ec847994fa36\": [{\"units\": 32, \"dropout_rate\": 0.25, \"learning_rate\": 1e-05, \"loss\": 0.692420482635498, \"recall\": 0.3356216549873352, \"val_loss\": 0.6919254064559937, \"val_recall\": 0.1463790386915207}, {\"units\": 64, \"dropout_rate\": 0.25, \"learning_rate\": 1e-05, \"loss\": 0.6924600005149841, \"recall\": 0.2246376872062683, \"val_loss\": 0.6913856267929077, \"val_recall\": 0.016949152573943138}, {\"units\": 16, \"dropout_rate\": 0.25, \"learning_rate\": 1e-05, \"loss\": 0.6929084658622742, \"recall\": 0.4027459919452667, \"val_loss\": 0.6922348737716675, \"val_recall\": 0.2064714878797531}, {\"units\": 16, \"dropout_rate\": 0.5, \"learning_rate\": 0.0001, \"loss\": 0.6890591979026794, \"recall\": 0.14035087823867798, \"val_loss\": 0.6832494139671326, \"val_recall\": 0.0}, {\"units\": 64, \"dropout_rate\": 0.75, \"learning_rate\": 0.001, \"loss\": 0.32744652032852173, \"recall\": 0.7871853709220886, \"val_loss\": 0.4845425486564636, \"val_recall\": 0.6841294169425964}, {\"units\": 16, \"dropout_rate\": 0.75, \"learning_rate\": 0.0001, \"loss\": 0.6868430376052856, \"recall\": 0.20213577151298523, \"val_loss\": 0.6819831132888794, \"val_recall\": 0.0}, {\"units\": 64, \"dropout_rate\": 0.75, \"learning_rate\": 1e-05, \"loss\": 0.6919367909431458, \"recall\": 0.3741418719291687, \"val_loss\": 0.691267728805542, \"val_recall\": 0.04160246625542641}, {\"units\": 16, \"dropout_rate\": 0.5, \"learning_rate\": 1e-05, \"loss\": 0.6926533579826355, \"recall\": 0.3901601731777191, \"val_loss\": 0.6917188167572021, \"val_recall\": 0.1463790386915207}, {\"units\": 16, \"dropout_rate\": 0.5, \"learning_rate\": 0.001, \"loss\": 0.27337121963500977, \"recall\": 0.8432494401931763, \"val_loss\": 0.5375549793243408, \"val_recall\": 0.7442218661308289}, {\"units\": 16, \"dropout_rate\": 0.25, \"learning_rate\": 0.0001, \"loss\": 0.604096531867981, \"recall\": 0.2971014380455017, \"val_loss\": 0.5942590236663818, \"val_recall\": 0.3775038421154022}, {\"units\": 64, \"dropout_rate\": 0.25, \"learning_rate\": 0.001, \"loss\": 0.2119731903076172, \"recall\": 0.8756674528121948, \"val_loss\": 0.6269519925117493, \"val_recall\": 0.7103235721588135}, {\"units\": 64, \"dropout_rate\": 0.5, \"learning_rate\": 0.0001, \"loss\": 0.5544931292533875, \"recall\": 0.5682684779167175, \"val_loss\": 0.5323219299316406, \"val_recall\": 0.6363636255264282}, {\"units\": 32, \"dropout_rate\": 0.25, \"learning_rate\": 0.0001, \"loss\": 0.5063068270683289, \"recall\": 0.6281464695930481, \"val_loss\": 0.4994831383228302, \"val_recall\": 0.6625577807426453}, {\"units\": 32, \"dropout_rate\": 0.75, \"learning_rate\": 0.001, \"loss\": 0.3378772437572479, \"recall\": 0.7868039608001709, \"val_loss\": 0.465158611536026, \"val_recall\": 0.716486930847168}, {\"units\": 32, \"dropout_rate\": 0.5, \"learning_rate\": 0.001, \"loss\": 0.2559598386287689, \"recall\": 0.8436307907104492, \"val_loss\": 0.5301230549812317, \"val_recall\": 0.7272727489471436}, {\"units\": 32, \"dropout_rate\": 0.75, \"learning_rate\": 0.0001, \"loss\": 0.6891748309135437, \"recall\": 0.21967963874340057, \"val_loss\": 0.6844666600227356, \"val_recall\": 0.0}, {\"units\": 64, \"dropout_rate\": 0.5, \"learning_rate\": 1e-05, \"loss\": 0.6925328373908997, \"recall\": 0.3321891725063324, \"val_loss\": 0.6915270090103149, \"val_recall\": 0.026194144040346146}, {\"units\": 64, \"dropout_rate\": 0.75, \"learning_rate\": 0.0001, \"loss\": 0.6896569132804871, \"recall\": 0.1826849728822708, \"val_loss\": 0.6833987236022949, \"val_recall\": 0.0}, {\"units\": 64, \"dropout_rate\": 0.5, \"learning_rate\": 0.001, \"loss\": 0.24836453795433044, \"recall\": 0.8588863611221313, \"val_loss\": 0.5269017815589905, \"val_recall\": 0.7318952083587646}, {\"units\": 32, \"dropout_rate\": 0.5, \"learning_rate\": 0.0001, \"loss\": 0.6241512298583984, \"recall\": 0.2528603971004486, \"val_loss\": 0.6093639135360718, \"val_recall\": 0.2989214062690735}, {\"units\": 16, \"dropout_rate\": 0.25, \"learning_rate\": 0.001, \"loss\": 0.2180439978837967, \"recall\": 0.8802440762519836, \"val_loss\": 0.5739427208900452, \"val_recall\": 0.7134052515029907}, {\"units\": 16, \"dropout_rate\": 0.75, \"learning_rate\": 0.001, \"loss\": 0.3605416715145111, \"recall\": 0.7818459272384644, \"val_loss\": 0.461635947227478, \"val_recall\": 0.6702619194984436}, {\"units\": 32, \"dropout_rate\": 0.5, \"learning_rate\": 1e-05, \"loss\": 0.6948156356811523, \"recall\": 0.6289092302322388, \"val_loss\": 0.6938713192939758, \"val_recall\": 0.553158700466156}, {\"units\": 32, \"dropout_rate\": 0.75, \"learning_rate\": 1e-05, \"loss\": 0.6918492317199707, \"recall\": 0.3909229636192322, \"val_loss\": 0.6912800073623657, \"val_recall\": 0.05238828808069229}, {\"units\": 16, \"dropout_rate\": 0.75, \"learning_rate\": 1e-05, \"loss\": 0.6919923424720764, \"recall\": 0.3707093894481659, \"val_loss\": 0.6910119652748108, \"val_recall\": 0.0708782747387886}, {\"units\": 64, \"dropout_rate\": 0.25, \"learning_rate\": 0.0001, \"loss\": 0.4436981678009033, \"recall\": 0.7090007662773132, \"val_loss\": 0.4796992242336273, \"val_recall\": 0.633281946182251}, {\"units\": 32, \"dropout_rate\": 0.25, \"learning_rate\": 0.001, \"loss\": 0.2094305008649826, \"recall\": 0.8779557347297668, \"val_loss\": 0.5810225605964661, \"val_recall\": 0.6933743953704834}]}}, {\"mode\": \"vega-lite\"});\n",
       "</script>"
      ],
      "text/plain": [
       "alt.HConcatChart(...)"
      ]
     },
     "metadata": {},
     "output_type": "display_data"
    },
    {
     "data": {
      "text/html": [
       "\n",
       "<style>\n",
       "  #altair-viz-399466d23cfb4abea41a09b7ef276550.vega-embed {\n",
       "    width: 100%;\n",
       "    display: flex;\n",
       "  }\n",
       "\n",
       "  #altair-viz-399466d23cfb4abea41a09b7ef276550.vega-embed details,\n",
       "  #altair-viz-399466d23cfb4abea41a09b7ef276550.vega-embed details summary {\n",
       "    position: relative;\n",
       "  }\n",
       "</style>\n",
       "<div id=\"altair-viz-399466d23cfb4abea41a09b7ef276550\"></div>\n",
       "<script type=\"text/javascript\">\n",
       "  var VEGA_DEBUG = (typeof VEGA_DEBUG == \"undefined\") ? {} : VEGA_DEBUG;\n",
       "  (function(spec, embedOpt){\n",
       "    let outputDiv = document.currentScript.previousElementSibling;\n",
       "    if (outputDiv.id !== \"altair-viz-399466d23cfb4abea41a09b7ef276550\") {\n",
       "      outputDiv = document.getElementById(\"altair-viz-399466d23cfb4abea41a09b7ef276550\");\n",
       "    }\n",
       "    const paths = {\n",
       "      \"vega\": \"https://cdn.jsdelivr.net/npm/vega@5?noext\",\n",
       "      \"vega-lib\": \"https://cdn.jsdelivr.net/npm/vega-lib?noext\",\n",
       "      \"vega-lite\": \"https://cdn.jsdelivr.net/npm/vega-lite@5.17.0?noext\",\n",
       "      \"vega-embed\": \"https://cdn.jsdelivr.net/npm/vega-embed@6?noext\",\n",
       "    };\n",
       "\n",
       "    function maybeLoadScript(lib, version) {\n",
       "      var key = `${lib.replace(\"-\", \"\")}_version`;\n",
       "      return (VEGA_DEBUG[key] == version) ?\n",
       "        Promise.resolve(paths[lib]) :\n",
       "        new Promise(function(resolve, reject) {\n",
       "          var s = document.createElement('script');\n",
       "          document.getElementsByTagName(\"head\")[0].appendChild(s);\n",
       "          s.async = true;\n",
       "          s.onload = () => {\n",
       "            VEGA_DEBUG[key] = version;\n",
       "            return resolve(paths[lib]);\n",
       "          };\n",
       "          s.onerror = () => reject(`Error loading script: ${paths[lib]}`);\n",
       "          s.src = paths[lib];\n",
       "        });\n",
       "    }\n",
       "\n",
       "    function showError(err) {\n",
       "      outputDiv.innerHTML = `<div class=\"error\" style=\"color:red;\">${err}</div>`;\n",
       "      throw err;\n",
       "    }\n",
       "\n",
       "    function displayChart(vegaEmbed) {\n",
       "      vegaEmbed(outputDiv, spec, embedOpt)\n",
       "        .catch(err => showError(`Javascript Error: ${err.message}<br>This usually means there's a typo in your chart specification. See the javascript console for the full traceback.`));\n",
       "    }\n",
       "\n",
       "    if(typeof define === \"function\" && define.amd) {\n",
       "      requirejs.config({paths});\n",
       "      require([\"vega-embed\"], displayChart, err => showError(`Error loading script: ${err.message}`));\n",
       "    } else {\n",
       "      maybeLoadScript(\"vega\", \"5\")\n",
       "        .then(() => maybeLoadScript(\"vega-lite\", \"5.17.0\"))\n",
       "        .then(() => maybeLoadScript(\"vega-embed\", \"6\"))\n",
       "        .catch(showError)\n",
       "        .then(() => displayChart(vegaEmbed));\n",
       "    }\n",
       "  })({\"config\": {\"view\": {\"continuousWidth\": 300, \"continuousHeight\": 300}}, \"hconcat\": [{\"mark\": {\"type\": \"line\"}, \"encoding\": {\"color\": {\"field\": \"units\", \"scale\": {\"zero\": false}, \"type\": \"nominal\"}, \"strokeDash\": {\"field\": \"dropout_rate\", \"type\": \"quantitative\"}, \"x\": {\"field\": \"learning_rate\", \"scale\": {\"zero\": false, \"type\": \"log\"}, \"type\": \"quantitative\"}, \"y\": {\"field\": \"val_recall\", \"scale\": {\"zero\": false, \"padding\": 1}, \"type\": \"quantitative\"}}, \"title\": \"Validation recall\"}, {\"mark\": {\"type\": \"line\"}, \"encoding\": {\"color\": {\"field\": \"units\", \"scale\": {\"zero\": false}, \"type\": \"nominal\"}, \"strokeDash\": {\"field\": \"dropout_rate\", \"type\": \"nominal\"}, \"x\": {\"field\": \"learning_rate\", \"scale\": {\"zero\": false, \"type\": \"log\"}, \"type\": \"quantitative\"}, \"y\": {\"field\": \"val_loss\", \"scale\": {\"zero\": false, \"padding\": 1}, \"type\": \"quantitative\"}}, \"title\": \"Validation loss\"}], \"data\": {\"name\": \"data-1b219d6ce4476f780870ec847994fa36\"}, \"$schema\": \"https://vega.github.io/schema/vega-lite/v5.17.0.json\", \"datasets\": {\"data-1b219d6ce4476f780870ec847994fa36\": [{\"units\": 32, \"dropout_rate\": 0.25, \"learning_rate\": 1e-05, \"loss\": 0.692420482635498, \"recall\": 0.3356216549873352, \"val_loss\": 0.6919254064559937, \"val_recall\": 0.1463790386915207}, {\"units\": 64, \"dropout_rate\": 0.25, \"learning_rate\": 1e-05, \"loss\": 0.6924600005149841, \"recall\": 0.2246376872062683, \"val_loss\": 0.6913856267929077, \"val_recall\": 0.016949152573943138}, {\"units\": 16, \"dropout_rate\": 0.25, \"learning_rate\": 1e-05, \"loss\": 0.6929084658622742, \"recall\": 0.4027459919452667, \"val_loss\": 0.6922348737716675, \"val_recall\": 0.2064714878797531}, {\"units\": 16, \"dropout_rate\": 0.5, \"learning_rate\": 0.0001, \"loss\": 0.6890591979026794, \"recall\": 0.14035087823867798, \"val_loss\": 0.6832494139671326, \"val_recall\": 0.0}, {\"units\": 64, \"dropout_rate\": 0.75, \"learning_rate\": 0.001, \"loss\": 0.32744652032852173, \"recall\": 0.7871853709220886, \"val_loss\": 0.4845425486564636, \"val_recall\": 0.6841294169425964}, {\"units\": 16, \"dropout_rate\": 0.75, \"learning_rate\": 0.0001, \"loss\": 0.6868430376052856, \"recall\": 0.20213577151298523, \"val_loss\": 0.6819831132888794, \"val_recall\": 0.0}, {\"units\": 64, \"dropout_rate\": 0.75, \"learning_rate\": 1e-05, \"loss\": 0.6919367909431458, \"recall\": 0.3741418719291687, \"val_loss\": 0.691267728805542, \"val_recall\": 0.04160246625542641}, {\"units\": 16, \"dropout_rate\": 0.5, \"learning_rate\": 1e-05, \"loss\": 0.6926533579826355, \"recall\": 0.3901601731777191, \"val_loss\": 0.6917188167572021, \"val_recall\": 0.1463790386915207}, {\"units\": 16, \"dropout_rate\": 0.5, \"learning_rate\": 0.001, \"loss\": 0.27337121963500977, \"recall\": 0.8432494401931763, \"val_loss\": 0.5375549793243408, \"val_recall\": 0.7442218661308289}, {\"units\": 16, \"dropout_rate\": 0.25, \"learning_rate\": 0.0001, \"loss\": 0.604096531867981, \"recall\": 0.2971014380455017, \"val_loss\": 0.5942590236663818, \"val_recall\": 0.3775038421154022}, {\"units\": 64, \"dropout_rate\": 0.25, \"learning_rate\": 0.001, \"loss\": 0.2119731903076172, \"recall\": 0.8756674528121948, \"val_loss\": 0.6269519925117493, \"val_recall\": 0.7103235721588135}, {\"units\": 64, \"dropout_rate\": 0.5, \"learning_rate\": 0.0001, \"loss\": 0.5544931292533875, \"recall\": 0.5682684779167175, \"val_loss\": 0.5323219299316406, \"val_recall\": 0.6363636255264282}, {\"units\": 32, \"dropout_rate\": 0.25, \"learning_rate\": 0.0001, \"loss\": 0.5063068270683289, \"recall\": 0.6281464695930481, \"val_loss\": 0.4994831383228302, \"val_recall\": 0.6625577807426453}, {\"units\": 32, \"dropout_rate\": 0.75, \"learning_rate\": 0.001, \"loss\": 0.3378772437572479, \"recall\": 0.7868039608001709, \"val_loss\": 0.465158611536026, \"val_recall\": 0.716486930847168}, {\"units\": 32, \"dropout_rate\": 0.5, \"learning_rate\": 0.001, \"loss\": 0.2559598386287689, \"recall\": 0.8436307907104492, \"val_loss\": 0.5301230549812317, \"val_recall\": 0.7272727489471436}, {\"units\": 32, \"dropout_rate\": 0.75, \"learning_rate\": 0.0001, \"loss\": 0.6891748309135437, \"recall\": 0.21967963874340057, \"val_loss\": 0.6844666600227356, \"val_recall\": 0.0}, {\"units\": 64, \"dropout_rate\": 0.5, \"learning_rate\": 1e-05, \"loss\": 0.6925328373908997, \"recall\": 0.3321891725063324, \"val_loss\": 0.6915270090103149, \"val_recall\": 0.026194144040346146}, {\"units\": 64, \"dropout_rate\": 0.75, \"learning_rate\": 0.0001, \"loss\": 0.6896569132804871, \"recall\": 0.1826849728822708, \"val_loss\": 0.6833987236022949, \"val_recall\": 0.0}, {\"units\": 64, \"dropout_rate\": 0.5, \"learning_rate\": 0.001, \"loss\": 0.24836453795433044, \"recall\": 0.8588863611221313, \"val_loss\": 0.5269017815589905, \"val_recall\": 0.7318952083587646}, {\"units\": 32, \"dropout_rate\": 0.5, \"learning_rate\": 0.0001, \"loss\": 0.6241512298583984, \"recall\": 0.2528603971004486, \"val_loss\": 0.6093639135360718, \"val_recall\": 0.2989214062690735}, {\"units\": 16, \"dropout_rate\": 0.25, \"learning_rate\": 0.001, \"loss\": 0.2180439978837967, \"recall\": 0.8802440762519836, \"val_loss\": 0.5739427208900452, \"val_recall\": 0.7134052515029907}, {\"units\": 16, \"dropout_rate\": 0.75, \"learning_rate\": 0.001, \"loss\": 0.3605416715145111, \"recall\": 0.7818459272384644, \"val_loss\": 0.461635947227478, \"val_recall\": 0.6702619194984436}, {\"units\": 32, \"dropout_rate\": 0.5, \"learning_rate\": 1e-05, \"loss\": 0.6948156356811523, \"recall\": 0.6289092302322388, \"val_loss\": 0.6938713192939758, \"val_recall\": 0.553158700466156}, {\"units\": 32, \"dropout_rate\": 0.75, \"learning_rate\": 1e-05, \"loss\": 0.6918492317199707, \"recall\": 0.3909229636192322, \"val_loss\": 0.6912800073623657, \"val_recall\": 0.05238828808069229}, {\"units\": 16, \"dropout_rate\": 0.75, \"learning_rate\": 1e-05, \"loss\": 0.6919923424720764, \"recall\": 0.3707093894481659, \"val_loss\": 0.6910119652748108, \"val_recall\": 0.0708782747387886}, {\"units\": 64, \"dropout_rate\": 0.25, \"learning_rate\": 0.0001, \"loss\": 0.4436981678009033, \"recall\": 0.7090007662773132, \"val_loss\": 0.4796992242336273, \"val_recall\": 0.633281946182251}, {\"units\": 32, \"dropout_rate\": 0.25, \"learning_rate\": 0.001, \"loss\": 0.2094305008649826, \"recall\": 0.8779557347297668, \"val_loss\": 0.5810225605964661, \"val_recall\": 0.6933743953704834}]}}, {\"mode\": \"vega-lite\"});\n",
       "</script>"
      ],
      "text/plain": [
       "alt.HConcatChart(...)"
      ]
     },
     "metadata": {},
     "output_type": "display_data"
    }
   ],
   "source": [
    "print(tuner_lstm.get_best_hyperparameters(1)[0].values)\n",
    "print_alt(hp_lstm_df)"
   ]
  },
  {
   "cell_type": "markdown",
   "metadata": {},
   "source": [
    "<p>Here you can see that every potential parameter set benifited from having a larger learning rate. Most models tested experienced a drop in recall score before having a large jump in score value, except for the models that had larger numbers of LSTM/ Bi-dir LSTM/GRU layers units.</p>"
   ]
  },
  {
   "cell_type": "code",
   "execution_count": 423,
   "metadata": {},
   "outputs": [
    {
     "name": "stdout",
     "output_type": "stream",
     "text": [
      " 48/191 [======>.......................] - ETA: 1s"
     ]
    },
    {
     "name": "stdout",
     "output_type": "stream",
     "text": [
      "191/191 [==============================] - 1s 7ms/step\n",
      "48/48 [==============================] - 0s 5ms/step\n"
     ]
    }
   ],
   "source": [
    "y_pred_train_lstm = final_lstm_model.predict(X_train)\n",
    "y_pred_val_lstm = final_lstm_model.predict(X_val)"
   ]
  },
  {
   "cell_type": "code",
   "execution_count": 514,
   "metadata": {},
   "outputs": [
    {
     "data": {
      "image/png": "[encoded data removed]",
      "text/plain": [
       "<Figure size 1000x400 with 4 Axes>"
      ]
     },
     "metadata": {},
     "output_type": "display_data"
    }
   ],
   "source": [
    "\n",
    "displayConfusionMatrix(y_train, y_pred_train_lstm, y_val, y_pred_val_lstm, 'LSTM')"
   ]
  },
  {
   "cell_type": "markdown",
   "metadata": {},
   "source": [
    "<p>Here you can see that the best final model did very well accuratly labeling tweets that were NOT about disasters, but had more trouble accuratly labeling tweets that truely were about a disaster, with the validation predictions doing worse than the training predictions.</p>"
   ]
  },
  {
   "cell_type": "markdown",
   "metadata": {},
   "source": [
    "<h3>Assessment of Bi-directional LSTM model</h3>"
   ]
  },
  {
   "cell_type": "code",
   "execution_count": 445,
   "metadata": {},
   "outputs": [],
   "source": [
    "hp_bd_lstm_df = make_dfs_for_alt(tuner_bi_dir_lstm)\n",
    "hp_bd_lstm_df = hp_bd_lstm_df[hp_bd_lstm_df['units'] > 0]"
   ]
  },
  {
   "cell_type": "code",
   "execution_count": 446,
   "metadata": {},
   "outputs": [
    {
     "data": {
      "text/html": [
       "\n",
       "<style>\n",
       "  #altair-viz-2a136b6845f645f38bce867197460ece.vega-embed {\n",
       "    width: 100%;\n",
       "    display: flex;\n",
       "  }\n",
       "\n",
       "  #altair-viz-2a136b6845f645f38bce867197460ece.vega-embed details,\n",
       "  #altair-viz-2a136b6845f645f38bce867197460ece.vega-embed details summary {\n",
       "    position: relative;\n",
       "  }\n",
       "</style>\n",
       "<div id=\"altair-viz-2a136b6845f645f38bce867197460ece\"></div>\n",
       "<script type=\"text/javascript\">\n",
       "  var VEGA_DEBUG = (typeof VEGA_DEBUG == \"undefined\") ? {} : VEGA_DEBUG;\n",
       "  (function(spec, embedOpt){\n",
       "    let outputDiv = document.currentScript.previousElementSibling;\n",
       "    if (outputDiv.id !== \"altair-viz-2a136b6845f645f38bce867197460ece\") {\n",
       "      outputDiv = document.getElementById(\"altair-viz-2a136b6845f645f38bce867197460ece\");\n",
       "    }\n",
       "    const paths = {\n",
       "      \"vega\": \"https://cdn.jsdelivr.net/npm/vega@5?noext\",\n",
       "      \"vega-lib\": \"https://cdn.jsdelivr.net/npm/vega-lib?noext\",\n",
       "      \"vega-lite\": \"https://cdn.jsdelivr.net/npm/vega-lite@5.17.0?noext\",\n",
       "      \"vega-embed\": \"https://cdn.jsdelivr.net/npm/vega-embed@6?noext\",\n",
       "    };\n",
       "\n",
       "    function maybeLoadScript(lib, version) {\n",
       "      var key = `${lib.replace(\"-\", \"\")}_version`;\n",
       "      return (VEGA_DEBUG[key] == version) ?\n",
       "        Promise.resolve(paths[lib]) :\n",
       "        new Promise(function(resolve, reject) {\n",
       "          var s = document.createElement('script');\n",
       "          document.getElementsByTagName(\"head\")[0].appendChild(s);\n",
       "          s.async = true;\n",
       "          s.onload = () => {\n",
       "            VEGA_DEBUG[key] = version;\n",
       "            return resolve(paths[lib]);\n",
       "          };\n",
       "          s.onerror = () => reject(`Error loading script: ${paths[lib]}`);\n",
       "          s.src = paths[lib];\n",
       "        });\n",
       "    }\n",
       "\n",
       "    function showError(err) {\n",
       "      outputDiv.innerHTML = `<div class=\"error\" style=\"color:red;\">${err}</div>`;\n",
       "      throw err;\n",
       "    }\n",
       "\n",
       "    function displayChart(vegaEmbed) {\n",
       "      vegaEmbed(outputDiv, spec, embedOpt)\n",
       "        .catch(err => showError(`Javascript Error: ${err.message}<br>This usually means there's a typo in your chart specification. See the javascript console for the full traceback.`));\n",
       "    }\n",
       "\n",
       "    if(typeof define === \"function\" && define.amd) {\n",
       "      requirejs.config({paths});\n",
       "      require([\"vega-embed\"], displayChart, err => showError(`Error loading script: ${err.message}`));\n",
       "    } else {\n",
       "      maybeLoadScript(\"vega\", \"5\")\n",
       "        .then(() => maybeLoadScript(\"vega-lite\", \"5.17.0\"))\n",
       "        .then(() => maybeLoadScript(\"vega-embed\", \"6\"))\n",
       "        .catch(showError)\n",
       "        .then(() => displayChart(vegaEmbed));\n",
       "    }\n",
       "  })({\"config\": {\"view\": {\"continuousWidth\": 300, \"continuousHeight\": 300}}, \"hconcat\": [{\"mark\": {\"type\": \"line\"}, \"encoding\": {\"color\": {\"field\": \"units\", \"scale\": {\"zero\": false}, \"type\": \"nominal\"}, \"strokeDash\": {\"field\": \"dropout_rate\", \"type\": \"quantitative\"}, \"x\": {\"field\": \"learning_rate\", \"scale\": {\"zero\": false, \"type\": \"log\"}, \"type\": \"quantitative\"}, \"y\": {\"field\": \"recall\", \"scale\": {\"zero\": false, \"padding\": 1}, \"type\": \"quantitative\"}}, \"title\": \"Training recall\"}, {\"mark\": {\"type\": \"line\"}, \"encoding\": {\"color\": {\"field\": \"units\", \"scale\": {\"zero\": false}, \"type\": \"nominal\"}, \"strokeDash\": {\"field\": \"dropout_rate\", \"type\": \"quantitative\"}, \"x\": {\"field\": \"learning_rate\", \"scale\": {\"zero\": false, \"type\": \"log\"}, \"type\": \"quantitative\"}, \"y\": {\"field\": \"loss\", \"scale\": {\"zero\": false, \"padding\": 1}, \"type\": \"quantitative\"}}, \"title\": \"Training loss\"}], \"data\": {\"name\": \"data-67a632ceeda6219c81fb09659b8212be\"}, \"$schema\": \"https://vega.github.io/schema/vega-lite/v5.17.0.json\", \"datasets\": {\"data-67a632ceeda6219c81fb09659b8212be\": [{\"units\": 16, \"dropout_rate\": 0.25, \"learning_rate\": 1e-05, \"loss\": 0.6905328631401062, \"recall\": 0.045766592025756836, \"val_loss\": 0.6891375780105591, \"val_recall\": 0.0030816642101854086}, {\"units\": 32, \"dropout_rate\": 0.5, \"learning_rate\": 0.001, \"loss\": 0.23005004227161407, \"recall\": 0.8604118824005127, \"val_loss\": 0.6234860420227051, \"val_recall\": 0.6918336153030396}, {\"units\": 16, \"dropout_rate\": 0.75, \"learning_rate\": 0.001, \"loss\": 0.31590232253074646, \"recall\": 0.7894737124443054, \"val_loss\": 0.4822632670402527, \"val_recall\": 0.7211093902587891}, {\"units\": 64, \"dropout_rate\": 0.75, \"learning_rate\": 0.001, \"loss\": 0.29981133341789246, \"recall\": 0.8062547445297241, \"val_loss\": 0.49749594926834106, \"val_recall\": 0.7180277109146118}, {\"units\": 16, \"dropout_rate\": 0.5, \"learning_rate\": 1e-05, \"loss\": 0.6931902766227722, \"recall\": 0.4195270836353302, \"val_loss\": 0.6920697689056396, \"val_recall\": 0.015408320352435112}, {\"units\": 32, \"dropout_rate\": 0.75, \"learning_rate\": 0.0001, \"loss\": 0.5742427706718445, \"recall\": 0.5743706822395325, \"val_loss\": 0.5203096270561218, \"val_recall\": 0.6795069575309753}, {\"units\": 16, \"dropout_rate\": 0.25, \"learning_rate\": 0.001, \"loss\": 0.18843933939933777, \"recall\": 0.895118236541748, \"val_loss\": 0.645318865776062, \"val_recall\": 0.7057010531425476}, {\"units\": 16, \"dropout_rate\": 0.5, \"learning_rate\": 0.0001, \"loss\": 0.6236235499382019, \"recall\": 0.29290616512298584, \"val_loss\": 0.5773367285728455, \"val_recall\": 0.5192604064941406}, {\"units\": 64, \"dropout_rate\": 0.5, \"learning_rate\": 0.001, \"loss\": 0.23549529910087585, \"recall\": 0.857742190361023, \"val_loss\": 0.6031506657600403, \"val_recall\": 0.7241910696029663}, {\"units\": 16, \"dropout_rate\": 0.5, \"learning_rate\": 0.001, \"loss\": 0.22838205099105835, \"recall\": 0.8691838383674622, \"val_loss\": 0.5735462307929993, \"val_recall\": 0.6933743953704834}, {\"units\": 64, \"dropout_rate\": 0.75, \"learning_rate\": 0.0001, \"loss\": 0.4975811541080475, \"recall\": 0.6613272428512573, \"val_loss\": 0.48697343468666077, \"val_recall\": 0.6718027591705322}, {\"units\": 64, \"dropout_rate\": 0.5, \"learning_rate\": 1e-05, \"loss\": 0.6916174292564392, \"recall\": 0.18306636810302734, \"val_loss\": 0.6897701025009155, \"val_recall\": 0.0}, {\"units\": 32, \"dropout_rate\": 0.25, \"learning_rate\": 1e-05, \"loss\": 0.6919635534286499, \"recall\": 0.15102975070476532, \"val_loss\": 0.6905852556228638, \"val_recall\": 0.0}, {\"units\": 32, \"dropout_rate\": 0.75, \"learning_rate\": 1e-05, \"loss\": 0.6909030675888062, \"recall\": 0.34210526943206787, \"val_loss\": 0.6897626519203186, \"val_recall\": 0.006163328420370817}, {\"units\": 64, \"dropout_rate\": 0.5, \"learning_rate\": 0.0001, \"loss\": 0.3844306468963623, \"recall\": 0.7364607453346252, \"val_loss\": 0.47914400696754456, \"val_recall\": 0.7180277109146118}, {\"units\": 32, \"dropout_rate\": 0.5, \"learning_rate\": 1e-05, \"loss\": 0.6937161684036255, \"recall\": 0.49733027815818787, \"val_loss\": 0.6925105452537537, \"val_recall\": 0.06317411363124847}, {\"units\": 32, \"dropout_rate\": 0.25, \"learning_rate\": 0.001, \"loss\": 0.191568061709404, \"recall\": 0.8985507488250732, \"val_loss\": 0.6769803166389465, \"val_recall\": 0.6933743953704834}, {\"units\": 64, \"dropout_rate\": 0.25, \"learning_rate\": 0.0001, \"loss\": 0.32528695464134216, \"recall\": 0.7948130965232849, \"val_loss\": 0.524575412273407, \"val_recall\": 0.7457627058029175}, {\"units\": 32, \"dropout_rate\": 0.25, \"learning_rate\": 0.0001, \"loss\": 0.34893912076950073, \"recall\": 0.7909992337226868, \"val_loss\": 0.4736773669719696, \"val_recall\": 0.6810477375984192}, {\"units\": 16, \"dropout_rate\": 0.75, \"learning_rate\": 0.0001, \"loss\": 0.6537086963653564, \"recall\": 0.1315789520740509, \"val_loss\": 0.6337777376174927, \"val_recall\": 0.2110939919948578}, {\"units\": 32, \"dropout_rate\": 0.5, \"learning_rate\": 0.0001, \"loss\": 0.4018861651420593, \"recall\": 0.7418001294136047, \"val_loss\": 0.4815582036972046, \"val_recall\": 0.6656394600868225}, {\"units\": 64, \"dropout_rate\": 0.25, \"learning_rate\": 1e-05, \"loss\": 0.6897285580635071, \"recall\": 0.008009153418242931, \"val_loss\": 0.6875140070915222, \"val_recall\": 0.0}, {\"units\": 32, \"dropout_rate\": 0.75, \"learning_rate\": 0.001, \"loss\": 0.30983927845954895, \"recall\": 0.8093058466911316, \"val_loss\": 0.46645891666412354, \"val_recall\": 0.7026194334030151}, {\"units\": 16, \"dropout_rate\": 0.25, \"learning_rate\": 0.0001, \"loss\": 0.37701815366744995, \"recall\": 0.7852784395217896, \"val_loss\": 0.4816844165325165, \"val_recall\": 0.7195685505867004}, {\"units\": 16, \"dropout_rate\": 0.75, \"learning_rate\": 1e-05, \"loss\": 0.6945481896400452, \"recall\": 0.4328756630420685, \"val_loss\": 0.6931833028793335, \"val_recall\": 0.11248073726892471}, {\"units\": 64, \"dropout_rate\": 0.25, \"learning_rate\": 0.001, \"loss\": 0.18827207386493683, \"recall\": 0.8935926556587219, \"val_loss\": 0.7435468435287476, \"val_recall\": 0.7226502299308777}]}}, {\"mode\": \"vega-lite\"});\n",
       "</script>"
      ],
      "text/plain": [
       "alt.HConcatChart(...)"
      ]
     },
     "metadata": {},
     "output_type": "display_data"
    },
    {
     "data": {
      "text/html": [
       "\n",
       "<style>\n",
       "  #altair-viz-a5ebfb09a2424a76bb906ecc01257345.vega-embed {\n",
       "    width: 100%;\n",
       "    display: flex;\n",
       "  }\n",
       "\n",
       "  #altair-viz-a5ebfb09a2424a76bb906ecc01257345.vega-embed details,\n",
       "  #altair-viz-a5ebfb09a2424a76bb906ecc01257345.vega-embed details summary {\n",
       "    position: relative;\n",
       "  }\n",
       "</style>\n",
       "<div id=\"altair-viz-a5ebfb09a2424a76bb906ecc01257345\"></div>\n",
       "<script type=\"text/javascript\">\n",
       "  var VEGA_DEBUG = (typeof VEGA_DEBUG == \"undefined\") ? {} : VEGA_DEBUG;\n",
       "  (function(spec, embedOpt){\n",
       "    let outputDiv = document.currentScript.previousElementSibling;\n",
       "    if (outputDiv.id !== \"altair-viz-a5ebfb09a2424a76bb906ecc01257345\") {\n",
       "      outputDiv = document.getElementById(\"altair-viz-a5ebfb09a2424a76bb906ecc01257345\");\n",
       "    }\n",
       "    const paths = {\n",
       "      \"vega\": \"https://cdn.jsdelivr.net/npm/vega@5?noext\",\n",
       "      \"vega-lib\": \"https://cdn.jsdelivr.net/npm/vega-lib?noext\",\n",
       "      \"vega-lite\": \"https://cdn.jsdelivr.net/npm/vega-lite@5.17.0?noext\",\n",
       "      \"vega-embed\": \"https://cdn.jsdelivr.net/npm/vega-embed@6?noext\",\n",
       "    };\n",
       "\n",
       "    function maybeLoadScript(lib, version) {\n",
       "      var key = `${lib.replace(\"-\", \"\")}_version`;\n",
       "      return (VEGA_DEBUG[key] == version) ?\n",
       "        Promise.resolve(paths[lib]) :\n",
       "        new Promise(function(resolve, reject) {\n",
       "          var s = document.createElement('script');\n",
       "          document.getElementsByTagName(\"head\")[0].appendChild(s);\n",
       "          s.async = true;\n",
       "          s.onload = () => {\n",
       "            VEGA_DEBUG[key] = version;\n",
       "            return resolve(paths[lib]);\n",
       "          };\n",
       "          s.onerror = () => reject(`Error loading script: ${paths[lib]}`);\n",
       "          s.src = paths[lib];\n",
       "        });\n",
       "    }\n",
       "\n",
       "    function showError(err) {\n",
       "      outputDiv.innerHTML = `<div class=\"error\" style=\"color:red;\">${err}</div>`;\n",
       "      throw err;\n",
       "    }\n",
       "\n",
       "    function displayChart(vegaEmbed) {\n",
       "      vegaEmbed(outputDiv, spec, embedOpt)\n",
       "        .catch(err => showError(`Javascript Error: ${err.message}<br>This usually means there's a typo in your chart specification. See the javascript console for the full traceback.`));\n",
       "    }\n",
       "\n",
       "    if(typeof define === \"function\" && define.amd) {\n",
       "      requirejs.config({paths});\n",
       "      require([\"vega-embed\"], displayChart, err => showError(`Error loading script: ${err.message}`));\n",
       "    } else {\n",
       "      maybeLoadScript(\"vega\", \"5\")\n",
       "        .then(() => maybeLoadScript(\"vega-lite\", \"5.17.0\"))\n",
       "        .then(() => maybeLoadScript(\"vega-embed\", \"6\"))\n",
       "        .catch(showError)\n",
       "        .then(() => displayChart(vegaEmbed));\n",
       "    }\n",
       "  })({\"config\": {\"view\": {\"continuousWidth\": 300, \"continuousHeight\": 300}}, \"hconcat\": [{\"mark\": {\"type\": \"line\"}, \"encoding\": {\"color\": {\"field\": \"units\", \"scale\": {\"zero\": false}, \"type\": \"nominal\"}, \"strokeDash\": {\"field\": \"dropout_rate\", \"type\": \"quantitative\"}, \"x\": {\"field\": \"learning_rate\", \"scale\": {\"zero\": false, \"type\": \"log\"}, \"type\": \"quantitative\"}, \"y\": {\"field\": \"val_recall\", \"scale\": {\"zero\": false, \"padding\": 1}, \"type\": \"quantitative\"}}, \"title\": \"Validation recall\"}, {\"mark\": {\"type\": \"line\"}, \"encoding\": {\"color\": {\"field\": \"units\", \"scale\": {\"zero\": false}, \"type\": \"nominal\"}, \"strokeDash\": {\"field\": \"dropout_rate\", \"type\": \"nominal\"}, \"x\": {\"field\": \"learning_rate\", \"scale\": {\"zero\": false, \"type\": \"log\"}, \"type\": \"quantitative\"}, \"y\": {\"field\": \"val_loss\", \"scale\": {\"zero\": false, \"padding\": 1}, \"type\": \"quantitative\"}}, \"title\": \"Validation loss\"}], \"data\": {\"name\": \"data-67a632ceeda6219c81fb09659b8212be\"}, \"$schema\": \"https://vega.github.io/schema/vega-lite/v5.17.0.json\", \"datasets\": {\"data-67a632ceeda6219c81fb09659b8212be\": [{\"units\": 16, \"dropout_rate\": 0.25, \"learning_rate\": 1e-05, \"loss\": 0.6905328631401062, \"recall\": 0.045766592025756836, \"val_loss\": 0.6891375780105591, \"val_recall\": 0.0030816642101854086}, {\"units\": 32, \"dropout_rate\": 0.5, \"learning_rate\": 0.001, \"loss\": 0.23005004227161407, \"recall\": 0.8604118824005127, \"val_loss\": 0.6234860420227051, \"val_recall\": 0.6918336153030396}, {\"units\": 16, \"dropout_rate\": 0.75, \"learning_rate\": 0.001, \"loss\": 0.31590232253074646, \"recall\": 0.7894737124443054, \"val_loss\": 0.4822632670402527, \"val_recall\": 0.7211093902587891}, {\"units\": 64, \"dropout_rate\": 0.75, \"learning_rate\": 0.001, \"loss\": 0.29981133341789246, \"recall\": 0.8062547445297241, \"val_loss\": 0.49749594926834106, \"val_recall\": 0.7180277109146118}, {\"units\": 16, \"dropout_rate\": 0.5, \"learning_rate\": 1e-05, \"loss\": 0.6931902766227722, \"recall\": 0.4195270836353302, \"val_loss\": 0.6920697689056396, \"val_recall\": 0.015408320352435112}, {\"units\": 32, \"dropout_rate\": 0.75, \"learning_rate\": 0.0001, \"loss\": 0.5742427706718445, \"recall\": 0.5743706822395325, \"val_loss\": 0.5203096270561218, \"val_recall\": 0.6795069575309753}, {\"units\": 16, \"dropout_rate\": 0.25, \"learning_rate\": 0.001, \"loss\": 0.18843933939933777, \"recall\": 0.895118236541748, \"val_loss\": 0.645318865776062, \"val_recall\": 0.7057010531425476}, {\"units\": 16, \"dropout_rate\": 0.5, \"learning_rate\": 0.0001, \"loss\": 0.6236235499382019, \"recall\": 0.29290616512298584, \"val_loss\": 0.5773367285728455, \"val_recall\": 0.5192604064941406}, {\"units\": 64, \"dropout_rate\": 0.5, \"learning_rate\": 0.001, \"loss\": 0.23549529910087585, \"recall\": 0.857742190361023, \"val_loss\": 0.6031506657600403, \"val_recall\": 0.7241910696029663}, {\"units\": 16, \"dropout_rate\": 0.5, \"learning_rate\": 0.001, \"loss\": 0.22838205099105835, \"recall\": 0.8691838383674622, \"val_loss\": 0.5735462307929993, \"val_recall\": 0.6933743953704834}, {\"units\": 64, \"dropout_rate\": 0.75, \"learning_rate\": 0.0001, \"loss\": 0.4975811541080475, \"recall\": 0.6613272428512573, \"val_loss\": 0.48697343468666077, \"val_recall\": 0.6718027591705322}, {\"units\": 64, \"dropout_rate\": 0.5, \"learning_rate\": 1e-05, \"loss\": 0.6916174292564392, \"recall\": 0.18306636810302734, \"val_loss\": 0.6897701025009155, \"val_recall\": 0.0}, {\"units\": 32, \"dropout_rate\": 0.25, \"learning_rate\": 1e-05, \"loss\": 0.6919635534286499, \"recall\": 0.15102975070476532, \"val_loss\": 0.6905852556228638, \"val_recall\": 0.0}, {\"units\": 32, \"dropout_rate\": 0.75, \"learning_rate\": 1e-05, \"loss\": 0.6909030675888062, \"recall\": 0.34210526943206787, \"val_loss\": 0.6897626519203186, \"val_recall\": 0.006163328420370817}, {\"units\": 64, \"dropout_rate\": 0.5, \"learning_rate\": 0.0001, \"loss\": 0.3844306468963623, \"recall\": 0.7364607453346252, \"val_loss\": 0.47914400696754456, \"val_recall\": 0.7180277109146118}, {\"units\": 32, \"dropout_rate\": 0.5, \"learning_rate\": 1e-05, \"loss\": 0.6937161684036255, \"recall\": 0.49733027815818787, \"val_loss\": 0.6925105452537537, \"val_recall\": 0.06317411363124847}, {\"units\": 32, \"dropout_rate\": 0.25, \"learning_rate\": 0.001, \"loss\": 0.191568061709404, \"recall\": 0.8985507488250732, \"val_loss\": 0.6769803166389465, \"val_recall\": 0.6933743953704834}, {\"units\": 64, \"dropout_rate\": 0.25, \"learning_rate\": 0.0001, \"loss\": 0.32528695464134216, \"recall\": 0.7948130965232849, \"val_loss\": 0.524575412273407, \"val_recall\": 0.7457627058029175}, {\"units\": 32, \"dropout_rate\": 0.25, \"learning_rate\": 0.0001, \"loss\": 0.34893912076950073, \"recall\": 0.7909992337226868, \"val_loss\": 0.4736773669719696, \"val_recall\": 0.6810477375984192}, {\"units\": 16, \"dropout_rate\": 0.75, \"learning_rate\": 0.0001, \"loss\": 0.6537086963653564, \"recall\": 0.1315789520740509, \"val_loss\": 0.6337777376174927, \"val_recall\": 0.2110939919948578}, {\"units\": 32, \"dropout_rate\": 0.5, \"learning_rate\": 0.0001, \"loss\": 0.4018861651420593, \"recall\": 0.7418001294136047, \"val_loss\": 0.4815582036972046, \"val_recall\": 0.6656394600868225}, {\"units\": 64, \"dropout_rate\": 0.25, \"learning_rate\": 1e-05, \"loss\": 0.6897285580635071, \"recall\": 0.008009153418242931, \"val_loss\": 0.6875140070915222, \"val_recall\": 0.0}, {\"units\": 32, \"dropout_rate\": 0.75, \"learning_rate\": 0.001, \"loss\": 0.30983927845954895, \"recall\": 0.8093058466911316, \"val_loss\": 0.46645891666412354, \"val_recall\": 0.7026194334030151}, {\"units\": 16, \"dropout_rate\": 0.25, \"learning_rate\": 0.0001, \"loss\": 0.37701815366744995, \"recall\": 0.7852784395217896, \"val_loss\": 0.4816844165325165, \"val_recall\": 0.7195685505867004}, {\"units\": 16, \"dropout_rate\": 0.75, \"learning_rate\": 1e-05, \"loss\": 0.6945481896400452, \"recall\": 0.4328756630420685, \"val_loss\": 0.6931833028793335, \"val_recall\": 0.11248073726892471}, {\"units\": 64, \"dropout_rate\": 0.25, \"learning_rate\": 0.001, \"loss\": 0.18827207386493683, \"recall\": 0.8935926556587219, \"val_loss\": 0.7435468435287476, \"val_recall\": 0.7226502299308777}]}}, {\"mode\": \"vega-lite\"});\n",
       "</script>"
      ],
      "text/plain": [
       "alt.HConcatChart(...)"
      ]
     },
     "metadata": {},
     "output_type": "display_data"
    },
    {
     "name": "stdout",
     "output_type": "stream",
     "text": [
      "{'units': 32, 'dropout_rate': 0.25, 'learning_rate': 0.001}\n"
     ]
    }
   ],
   "source": [
    "print_alt(hp_bd_lstm_df)\n",
    "print(tuner_bi_dir_lstm.get_best_hyperparameters(1)[0].values)"
   ]
  },
  {
   "cell_type": "markdown",
   "metadata": {},
   "source": [
    "<p>Here you can see that every potential parameter set benifited from having a larger learning rate, as for the SLTM models. About half of the models tested experienced a drop in recall score before having a large jump in score value, but models that had the lowest dropout rate of 0.25 did the best overall and had the greatest improvement in recall score as learning rate decreased.</p>"
   ]
  },
  {
   "cell_type": "code",
   "execution_count": 447,
   "metadata": {},
   "outputs": [
    {
     "name": "stdout",
     "output_type": "stream",
     "text": [
      " 50/191 [======>.......................] - ETA: 2s"
     ]
    },
    {
     "name": "stdout",
     "output_type": "stream",
     "text": [
      "191/191 [==============================] - 2s 12ms/step\n",
      "48/48 [==============================] - 1s 10ms/step\n"
     ]
    }
   ],
   "source": [
    "y_pred_train_bd_lstm = final_bi_dir_lstm_model.predict(X_train)\n",
    "y_pred_val_bd_lstm = final_bi_dir_lstm_model.predict(X_val)"
   ]
  },
  {
   "cell_type": "code",
   "execution_count": 451,
   "metadata": {},
   "outputs": [],
   "source": [
    "y_pred_train_bd_lstm = np.array([np.round(np.mean(i)) for i in y_pred_train_bd_lstm])\n",
    "y_pred_val_bd_lstm = np.array([np.round(np.mean(i)) for i in y_pred_val_bd_lstm])"
   ]
  },
  {
   "cell_type": "code",
   "execution_count": 515,
   "metadata": {},
   "outputs": [
    {
     "data": {
      "image/png": "[encoded data removed]",
      "text/plain": [
       "<Figure size 1000x400 with 4 Axes>"
      ]
     },
     "metadata": {},
     "output_type": "display_data"
    }
   ],
   "source": [
    "\n",
    "displayConfusionMatrix(y_train, y_pred_train_bd_lstm, y_val, y_pred_val_bd_lstm, 'Bi-directional LSTM')"
   ]
  },
  {
   "cell_type": "markdown",
   "metadata": {},
   "source": [
    "<p>As with the final best LSTM model, the best Bi-Directional LSTM final model did very well accuratly labeling tweets that were NOT about disasters, but had more trouble accuratly labeling tweets that truely were about a disaster. The validation predictions from this model were slighly better than for the straight LSTM model.</p>"
   ]
  },
  {
   "cell_type": "markdown",
   "metadata": {},
   "source": [
    "<h3>Assessment of GRU model</h3>"
   ]
  },
  {
   "cell_type": "code",
   "execution_count": 434,
   "metadata": {},
   "outputs": [],
   "source": [
    "hp_gru_df = make_dfs_for_alt(tuner_gru)\n",
    "hp_gru_df = hp_gru_df[hp_gru_df['units'] > 0]"
   ]
  },
  {
   "cell_type": "code",
   "execution_count": 435,
   "metadata": {},
   "outputs": [
    {
     "name": "stdout",
     "output_type": "stream",
     "text": [
      "{'units': 32, 'dropout_rate': 0.25, 'learning_rate': 0.001}\n"
     ]
    },
    {
     "data": {
      "text/html": [
       "\n",
       "<style>\n",
       "  #altair-viz-32c07a38c978476795e3317c66f3453b.vega-embed {\n",
       "    width: 100%;\n",
       "    display: flex;\n",
       "  }\n",
       "\n",
       "  #altair-viz-32c07a38c978476795e3317c66f3453b.vega-embed details,\n",
       "  #altair-viz-32c07a38c978476795e3317c66f3453b.vega-embed details summary {\n",
       "    position: relative;\n",
       "  }\n",
       "</style>\n",
       "<div id=\"altair-viz-32c07a38c978476795e3317c66f3453b\"></div>\n",
       "<script type=\"text/javascript\">\n",
       "  var VEGA_DEBUG = (typeof VEGA_DEBUG == \"undefined\") ? {} : VEGA_DEBUG;\n",
       "  (function(spec, embedOpt){\n",
       "    let outputDiv = document.currentScript.previousElementSibling;\n",
       "    if (outputDiv.id !== \"altair-viz-32c07a38c978476795e3317c66f3453b\") {\n",
       "      outputDiv = document.getElementById(\"altair-viz-32c07a38c978476795e3317c66f3453b\");\n",
       "    }\n",
       "    const paths = {\n",
       "      \"vega\": \"https://cdn.jsdelivr.net/npm/vega@5?noext\",\n",
       "      \"vega-lib\": \"https://cdn.jsdelivr.net/npm/vega-lib?noext\",\n",
       "      \"vega-lite\": \"https://cdn.jsdelivr.net/npm/vega-lite@5.17.0?noext\",\n",
       "      \"vega-embed\": \"https://cdn.jsdelivr.net/npm/vega-embed@6?noext\",\n",
       "    };\n",
       "\n",
       "    function maybeLoadScript(lib, version) {\n",
       "      var key = `${lib.replace(\"-\", \"\")}_version`;\n",
       "      return (VEGA_DEBUG[key] == version) ?\n",
       "        Promise.resolve(paths[lib]) :\n",
       "        new Promise(function(resolve, reject) {\n",
       "          var s = document.createElement('script');\n",
       "          document.getElementsByTagName(\"head\")[0].appendChild(s);\n",
       "          s.async = true;\n",
       "          s.onload = () => {\n",
       "            VEGA_DEBUG[key] = version;\n",
       "            return resolve(paths[lib]);\n",
       "          };\n",
       "          s.onerror = () => reject(`Error loading script: ${paths[lib]}`);\n",
       "          s.src = paths[lib];\n",
       "        });\n",
       "    }\n",
       "\n",
       "    function showError(err) {\n",
       "      outputDiv.innerHTML = `<div class=\"error\" style=\"color:red;\">${err}</div>`;\n",
       "      throw err;\n",
       "    }\n",
       "\n",
       "    function displayChart(vegaEmbed) {\n",
       "      vegaEmbed(outputDiv, spec, embedOpt)\n",
       "        .catch(err => showError(`Javascript Error: ${err.message}<br>This usually means there's a typo in your chart specification. See the javascript console for the full traceback.`));\n",
       "    }\n",
       "\n",
       "    if(typeof define === \"function\" && define.amd) {\n",
       "      requirejs.config({paths});\n",
       "      require([\"vega-embed\"], displayChart, err => showError(`Error loading script: ${err.message}`));\n",
       "    } else {\n",
       "      maybeLoadScript(\"vega\", \"5\")\n",
       "        .then(() => maybeLoadScript(\"vega-lite\", \"5.17.0\"))\n",
       "        .then(() => maybeLoadScript(\"vega-embed\", \"6\"))\n",
       "        .catch(showError)\n",
       "        .then(() => displayChart(vegaEmbed));\n",
       "    }\n",
       "  })({\"config\": {\"view\": {\"continuousWidth\": 300, \"continuousHeight\": 300}}, \"hconcat\": [{\"mark\": {\"type\": \"line\"}, \"encoding\": {\"color\": {\"field\": \"units\", \"scale\": {\"zero\": false}, \"type\": \"nominal\"}, \"strokeDash\": {\"field\": \"dropout_rate\", \"type\": \"quantitative\"}, \"x\": {\"field\": \"learning_rate\", \"scale\": {\"zero\": false, \"type\": \"log\"}, \"type\": \"quantitative\"}, \"y\": {\"field\": \"recall\", \"scale\": {\"zero\": false, \"padding\": 1}, \"type\": \"quantitative\"}}, \"title\": \"Training recall\"}, {\"mark\": {\"type\": \"line\"}, \"encoding\": {\"color\": {\"field\": \"units\", \"scale\": {\"zero\": false}, \"type\": \"nominal\"}, \"strokeDash\": {\"field\": \"dropout_rate\", \"type\": \"quantitative\"}, \"x\": {\"field\": \"learning_rate\", \"scale\": {\"zero\": false, \"type\": \"log\"}, \"type\": \"quantitative\"}, \"y\": {\"field\": \"loss\", \"scale\": {\"zero\": false, \"padding\": 1}, \"type\": \"quantitative\"}}, \"title\": \"Training loss\"}], \"data\": {\"name\": \"data-4f7d44eb65e0bc8e2acae8e0d2b10976\"}, \"$schema\": \"https://vega.github.io/schema/vega-lite/v5.17.0.json\", \"datasets\": {\"data-4f7d44eb65e0bc8e2acae8e0d2b10976\": [{\"units\": 32, \"dropout_rate\": 0.5, \"learning_rate\": 0.001, \"loss\": 0.23660564422607422, \"recall\": 0.8638443946838379, \"val_loss\": 0.599075436592102, \"val_recall\": 0.7134052515029907}, {\"units\": 64, \"dropout_rate\": 0.75, \"learning_rate\": 0.001, \"loss\": 0.31789496541023254, \"recall\": 0.802440881729126, \"val_loss\": 0.49267324805259705, \"val_recall\": 0.6640986204147339}, {\"units\": 64, \"dropout_rate\": 0.5, \"learning_rate\": 0.001, \"loss\": 0.23673294484615326, \"recall\": 0.8607932925224304, \"val_loss\": 0.5825830698013306, \"val_recall\": 0.7380585670471191}, {\"units\": 16, \"dropout_rate\": 0.75, \"learning_rate\": 0.0001, \"loss\": 0.690761148929596, \"recall\": 0.3398169279098511, \"val_loss\": 0.6870171427726746, \"val_recall\": 0.0030816642101854086}, {\"units\": 32, \"dropout_rate\": 0.75, \"learning_rate\": 0.001, \"loss\": 0.3353502154350281, \"recall\": 0.788329541683197, \"val_loss\": 0.47894126176834106, \"val_recall\": 0.7426810264587402}, {\"units\": 32, \"dropout_rate\": 0.25, \"learning_rate\": 1e-05, \"loss\": 0.6927247047424316, \"recall\": 0.36689549684524536, \"val_loss\": 0.6919298768043518, \"val_recall\": 0.21879814565181732}, {\"units\": 16, \"dropout_rate\": 0.5, \"learning_rate\": 1e-05, \"loss\": 0.6939042806625366, \"recall\": 0.4614797830581665, \"val_loss\": 0.6927005052566528, \"val_recall\": 0.37288135290145874}, {\"units\": 64, \"dropout_rate\": 0.5, \"learning_rate\": 0.0001, \"loss\": 0.5541704893112183, \"recall\": 0.5789473652839661, \"val_loss\": 0.5299904346466064, \"val_recall\": 0.6440678238868713}, {\"units\": 32, \"dropout_rate\": 0.25, \"learning_rate\": 0.0001, \"loss\": 0.5345500111579895, \"recall\": 0.5617849230766296, \"val_loss\": 0.5250146985054016, \"val_recall\": 0.5963020324707031}, {\"units\": 64, \"dropout_rate\": 0.25, \"learning_rate\": 0.001, \"loss\": 0.18792937695980072, \"recall\": 0.8977879285812378, \"val_loss\": 0.6650671362876892, \"val_recall\": 0.7149460911750793}, {\"units\": 16, \"dropout_rate\": 0.5, \"learning_rate\": 0.001, \"loss\": 0.2577388882637024, \"recall\": 0.8592677116394043, \"val_loss\": 0.5682322978973389, \"val_recall\": 0.7211093902587891}, {\"units\": 16, \"dropout_rate\": 0.25, \"learning_rate\": 0.001, \"loss\": 0.21224282681941986, \"recall\": 0.8790999054908752, \"val_loss\": 0.6354179978370667, \"val_recall\": 0.7134052515029907}, {\"units\": 16, \"dropout_rate\": 0.25, \"learning_rate\": 0.0001, \"loss\": 0.6087079048156738, \"recall\": 0.3062547743320465, \"val_loss\": 0.5982562899589539, \"val_recall\": 0.40832048654556274}, {\"units\": 16, \"dropout_rate\": 0.75, \"learning_rate\": 1e-05, \"loss\": 0.6933953166007996, \"recall\": 0.4736842215061188, \"val_loss\": 0.6922105550765991, \"val_recall\": 0.3713405132293701}, {\"units\": 64, \"dropout_rate\": 0.5, \"learning_rate\": 1e-05, \"loss\": 0.6924357414245605, \"recall\": 0.3886346220970154, \"val_loss\": 0.6915584802627563, \"val_recall\": 0.06779661029577255}, {\"units\": 16, \"dropout_rate\": 0.5, \"learning_rate\": 0.0001, \"loss\": 0.6883106231689453, \"recall\": 0.20900076627731323, \"val_loss\": 0.6839740872383118, \"val_recall\": 0.0}, {\"units\": 64, \"dropout_rate\": 0.75, \"learning_rate\": 0.0001, \"loss\": 0.6507135629653931, \"recall\": 0.2143401950597763, \"val_loss\": 0.6388989686965942, \"val_recall\": 0.36671802401542664}, {\"units\": 64, \"dropout_rate\": 0.25, \"learning_rate\": 1e-05, \"loss\": 0.692689836025238, \"recall\": 0.30320367217063904, \"val_loss\": 0.6916182637214661, \"val_recall\": 0.08936826139688492}, {\"units\": 32, \"dropout_rate\": 0.5, \"learning_rate\": 1e-05, \"loss\": 0.6928794980049133, \"recall\": 0.4603356122970581, \"val_loss\": 0.6921258568763733, \"val_recall\": 0.3066255748271942}, {\"units\": 64, \"dropout_rate\": 0.25, \"learning_rate\": 0.0001, \"loss\": 0.4410398006439209, \"recall\": 0.7028985619544983, \"val_loss\": 0.4591203033924103, \"val_recall\": 0.7041602730751038}, {\"units\": 32, \"dropout_rate\": 0.25, \"learning_rate\": 0.001, \"loss\": 0.18102794885635376, \"recall\": 0.8989320993423462, \"val_loss\": 0.6409223079681396, \"val_recall\": 0.6718027591705322}, {\"units\": 32, \"dropout_rate\": 0.5, \"learning_rate\": 0.0001, \"loss\": 0.6218312382698059, \"recall\": 0.32379862666130066, \"val_loss\": 0.6082026958465576, \"val_recall\": 0.3882896900177002}, {\"units\": 32, \"dropout_rate\": 0.75, \"learning_rate\": 1e-05, \"loss\": 0.6929352879524231, \"recall\": 0.4694889485836029, \"val_loss\": 0.6926687955856323, \"val_recall\": 0.34976887702941895}, {\"units\": 16, \"dropout_rate\": 0.25, \"learning_rate\": 1e-05, \"loss\": 0.6911545991897583, \"recall\": 0.39054158329963684, \"val_loss\": 0.6903443336486816, \"val_recall\": 0.3066255748271942}, {\"units\": 32, \"dropout_rate\": 0.75, \"learning_rate\": 0.0001, \"loss\": 0.6899721026420593, \"recall\": 0.26125094294548035, \"val_loss\": 0.6858419179916382, \"val_recall\": 0.0}, {\"units\": 64, \"dropout_rate\": 0.75, \"learning_rate\": 1e-05, \"loss\": 0.6931310892105103, \"recall\": 0.4401220381259918, \"val_loss\": 0.6923904418945312, \"val_recall\": 0.16640986502170563}, {\"units\": 16, \"dropout_rate\": 0.75, \"learning_rate\": 0.001, \"loss\": 0.36387717723846436, \"recall\": 0.7711670398712158, \"val_loss\": 0.4670363962650299, \"val_recall\": 0.6979969143867493}]}}, {\"mode\": \"vega-lite\"});\n",
       "</script>"
      ],
      "text/plain": [
       "alt.HConcatChart(...)"
      ]
     },
     "metadata": {},
     "output_type": "display_data"
    },
    {
     "data": {
      "text/html": [
       "\n",
       "<style>\n",
       "  #altair-viz-3b8a08894fbf45428ea95a558d55ce70.vega-embed {\n",
       "    width: 100%;\n",
       "    display: flex;\n",
       "  }\n",
       "\n",
       "  #altair-viz-3b8a08894fbf45428ea95a558d55ce70.vega-embed details,\n",
       "  #altair-viz-3b8a08894fbf45428ea95a558d55ce70.vega-embed details summary {\n",
       "    position: relative;\n",
       "  }\n",
       "</style>\n",
       "<div id=\"altair-viz-3b8a08894fbf45428ea95a558d55ce70\"></div>\n",
       "<script type=\"text/javascript\">\n",
       "  var VEGA_DEBUG = (typeof VEGA_DEBUG == \"undefined\") ? {} : VEGA_DEBUG;\n",
       "  (function(spec, embedOpt){\n",
       "    let outputDiv = document.currentScript.previousElementSibling;\n",
       "    if (outputDiv.id !== \"altair-viz-3b8a08894fbf45428ea95a558d55ce70\") {\n",
       "      outputDiv = document.getElementById(\"altair-viz-3b8a08894fbf45428ea95a558d55ce70\");\n",
       "    }\n",
       "    const paths = {\n",
       "      \"vega\": \"https://cdn.jsdelivr.net/npm/vega@5?noext\",\n",
       "      \"vega-lib\": \"https://cdn.jsdelivr.net/npm/vega-lib?noext\",\n",
       "      \"vega-lite\": \"https://cdn.jsdelivr.net/npm/vega-lite@5.17.0?noext\",\n",
       "      \"vega-embed\": \"https://cdn.jsdelivr.net/npm/vega-embed@6?noext\",\n",
       "    };\n",
       "\n",
       "    function maybeLoadScript(lib, version) {\n",
       "      var key = `${lib.replace(\"-\", \"\")}_version`;\n",
       "      return (VEGA_DEBUG[key] == version) ?\n",
       "        Promise.resolve(paths[lib]) :\n",
       "        new Promise(function(resolve, reject) {\n",
       "          var s = document.createElement('script');\n",
       "          document.getElementsByTagName(\"head\")[0].appendChild(s);\n",
       "          s.async = true;\n",
       "          s.onload = () => {\n",
       "            VEGA_DEBUG[key] = version;\n",
       "            return resolve(paths[lib]);\n",
       "          };\n",
       "          s.onerror = () => reject(`Error loading script: ${paths[lib]}`);\n",
       "          s.src = paths[lib];\n",
       "        });\n",
       "    }\n",
       "\n",
       "    function showError(err) {\n",
       "      outputDiv.innerHTML = `<div class=\"error\" style=\"color:red;\">${err}</div>`;\n",
       "      throw err;\n",
       "    }\n",
       "\n",
       "    function displayChart(vegaEmbed) {\n",
       "      vegaEmbed(outputDiv, spec, embedOpt)\n",
       "        .catch(err => showError(`Javascript Error: ${err.message}<br>This usually means there's a typo in your chart specification. See the javascript console for the full traceback.`));\n",
       "    }\n",
       "\n",
       "    if(typeof define === \"function\" && define.amd) {\n",
       "      requirejs.config({paths});\n",
       "      require([\"vega-embed\"], displayChart, err => showError(`Error loading script: ${err.message}`));\n",
       "    } else {\n",
       "      maybeLoadScript(\"vega\", \"5\")\n",
       "        .then(() => maybeLoadScript(\"vega-lite\", \"5.17.0\"))\n",
       "        .then(() => maybeLoadScript(\"vega-embed\", \"6\"))\n",
       "        .catch(showError)\n",
       "        .then(() => displayChart(vegaEmbed));\n",
       "    }\n",
       "  })({\"config\": {\"view\": {\"continuousWidth\": 300, \"continuousHeight\": 300}}, \"hconcat\": [{\"mark\": {\"type\": \"line\"}, \"encoding\": {\"color\": {\"field\": \"units\", \"scale\": {\"zero\": false}, \"type\": \"nominal\"}, \"strokeDash\": {\"field\": \"dropout_rate\", \"type\": \"quantitative\"}, \"x\": {\"field\": \"learning_rate\", \"scale\": {\"zero\": false, \"type\": \"log\"}, \"type\": \"quantitative\"}, \"y\": {\"field\": \"val_recall\", \"scale\": {\"zero\": false, \"padding\": 1}, \"type\": \"quantitative\"}}, \"title\": \"Validation recall\"}, {\"mark\": {\"type\": \"line\"}, \"encoding\": {\"color\": {\"field\": \"units\", \"scale\": {\"zero\": false}, \"type\": \"nominal\"}, \"strokeDash\": {\"field\": \"dropout_rate\", \"type\": \"nominal\"}, \"x\": {\"field\": \"learning_rate\", \"scale\": {\"zero\": false, \"type\": \"log\"}, \"type\": \"quantitative\"}, \"y\": {\"field\": \"val_loss\", \"scale\": {\"zero\": false, \"padding\": 1}, \"type\": \"quantitative\"}}, \"title\": \"Validation loss\"}], \"data\": {\"name\": \"data-4f7d44eb65e0bc8e2acae8e0d2b10976\"}, \"$schema\": \"https://vega.github.io/schema/vega-lite/v5.17.0.json\", \"datasets\": {\"data-4f7d44eb65e0bc8e2acae8e0d2b10976\": [{\"units\": 32, \"dropout_rate\": 0.5, \"learning_rate\": 0.001, \"loss\": 0.23660564422607422, \"recall\": 0.8638443946838379, \"val_loss\": 0.599075436592102, \"val_recall\": 0.7134052515029907}, {\"units\": 64, \"dropout_rate\": 0.75, \"learning_rate\": 0.001, \"loss\": 0.31789496541023254, \"recall\": 0.802440881729126, \"val_loss\": 0.49267324805259705, \"val_recall\": 0.6640986204147339}, {\"units\": 64, \"dropout_rate\": 0.5, \"learning_rate\": 0.001, \"loss\": 0.23673294484615326, \"recall\": 0.8607932925224304, \"val_loss\": 0.5825830698013306, \"val_recall\": 0.7380585670471191}, {\"units\": 16, \"dropout_rate\": 0.75, \"learning_rate\": 0.0001, \"loss\": 0.690761148929596, \"recall\": 0.3398169279098511, \"val_loss\": 0.6870171427726746, \"val_recall\": 0.0030816642101854086}, {\"units\": 32, \"dropout_rate\": 0.75, \"learning_rate\": 0.001, \"loss\": 0.3353502154350281, \"recall\": 0.788329541683197, \"val_loss\": 0.47894126176834106, \"val_recall\": 0.7426810264587402}, {\"units\": 32, \"dropout_rate\": 0.25, \"learning_rate\": 1e-05, \"loss\": 0.6927247047424316, \"recall\": 0.36689549684524536, \"val_loss\": 0.6919298768043518, \"val_recall\": 0.21879814565181732}, {\"units\": 16, \"dropout_rate\": 0.5, \"learning_rate\": 1e-05, \"loss\": 0.6939042806625366, \"recall\": 0.4614797830581665, \"val_loss\": 0.6927005052566528, \"val_recall\": 0.37288135290145874}, {\"units\": 64, \"dropout_rate\": 0.5, \"learning_rate\": 0.0001, \"loss\": 0.5541704893112183, \"recall\": 0.5789473652839661, \"val_loss\": 0.5299904346466064, \"val_recall\": 0.6440678238868713}, {\"units\": 32, \"dropout_rate\": 0.25, \"learning_rate\": 0.0001, \"loss\": 0.5345500111579895, \"recall\": 0.5617849230766296, \"val_loss\": 0.5250146985054016, \"val_recall\": 0.5963020324707031}, {\"units\": 64, \"dropout_rate\": 0.25, \"learning_rate\": 0.001, \"loss\": 0.18792937695980072, \"recall\": 0.8977879285812378, \"val_loss\": 0.6650671362876892, \"val_recall\": 0.7149460911750793}, {\"units\": 16, \"dropout_rate\": 0.5, \"learning_rate\": 0.001, \"loss\": 0.2577388882637024, \"recall\": 0.8592677116394043, \"val_loss\": 0.5682322978973389, \"val_recall\": 0.7211093902587891}, {\"units\": 16, \"dropout_rate\": 0.25, \"learning_rate\": 0.001, \"loss\": 0.21224282681941986, \"recall\": 0.8790999054908752, \"val_loss\": 0.6354179978370667, \"val_recall\": 0.7134052515029907}, {\"units\": 16, \"dropout_rate\": 0.25, \"learning_rate\": 0.0001, \"loss\": 0.6087079048156738, \"recall\": 0.3062547743320465, \"val_loss\": 0.5982562899589539, \"val_recall\": 0.40832048654556274}, {\"units\": 16, \"dropout_rate\": 0.75, \"learning_rate\": 1e-05, \"loss\": 0.6933953166007996, \"recall\": 0.4736842215061188, \"val_loss\": 0.6922105550765991, \"val_recall\": 0.3713405132293701}, {\"units\": 64, \"dropout_rate\": 0.5, \"learning_rate\": 1e-05, \"loss\": 0.6924357414245605, \"recall\": 0.3886346220970154, \"val_loss\": 0.6915584802627563, \"val_recall\": 0.06779661029577255}, {\"units\": 16, \"dropout_rate\": 0.5, \"learning_rate\": 0.0001, \"loss\": 0.6883106231689453, \"recall\": 0.20900076627731323, \"val_loss\": 0.6839740872383118, \"val_recall\": 0.0}, {\"units\": 64, \"dropout_rate\": 0.75, \"learning_rate\": 0.0001, \"loss\": 0.6507135629653931, \"recall\": 0.2143401950597763, \"val_loss\": 0.6388989686965942, \"val_recall\": 0.36671802401542664}, {\"units\": 64, \"dropout_rate\": 0.25, \"learning_rate\": 1e-05, \"loss\": 0.692689836025238, \"recall\": 0.30320367217063904, \"val_loss\": 0.6916182637214661, \"val_recall\": 0.08936826139688492}, {\"units\": 32, \"dropout_rate\": 0.5, \"learning_rate\": 1e-05, \"loss\": 0.6928794980049133, \"recall\": 0.4603356122970581, \"val_loss\": 0.6921258568763733, \"val_recall\": 0.3066255748271942}, {\"units\": 64, \"dropout_rate\": 0.25, \"learning_rate\": 0.0001, \"loss\": 0.4410398006439209, \"recall\": 0.7028985619544983, \"val_loss\": 0.4591203033924103, \"val_recall\": 0.7041602730751038}, {\"units\": 32, \"dropout_rate\": 0.25, \"learning_rate\": 0.001, \"loss\": 0.18102794885635376, \"recall\": 0.8989320993423462, \"val_loss\": 0.6409223079681396, \"val_recall\": 0.6718027591705322}, {\"units\": 32, \"dropout_rate\": 0.5, \"learning_rate\": 0.0001, \"loss\": 0.6218312382698059, \"recall\": 0.32379862666130066, \"val_loss\": 0.6082026958465576, \"val_recall\": 0.3882896900177002}, {\"units\": 32, \"dropout_rate\": 0.75, \"learning_rate\": 1e-05, \"loss\": 0.6929352879524231, \"recall\": 0.4694889485836029, \"val_loss\": 0.6926687955856323, \"val_recall\": 0.34976887702941895}, {\"units\": 16, \"dropout_rate\": 0.25, \"learning_rate\": 1e-05, \"loss\": 0.6911545991897583, \"recall\": 0.39054158329963684, \"val_loss\": 0.6903443336486816, \"val_recall\": 0.3066255748271942}, {\"units\": 32, \"dropout_rate\": 0.75, \"learning_rate\": 0.0001, \"loss\": 0.6899721026420593, \"recall\": 0.26125094294548035, \"val_loss\": 0.6858419179916382, \"val_recall\": 0.0}, {\"units\": 64, \"dropout_rate\": 0.75, \"learning_rate\": 1e-05, \"loss\": 0.6931310892105103, \"recall\": 0.4401220381259918, \"val_loss\": 0.6923904418945312, \"val_recall\": 0.16640986502170563}, {\"units\": 16, \"dropout_rate\": 0.75, \"learning_rate\": 0.001, \"loss\": 0.36387717723846436, \"recall\": 0.7711670398712158, \"val_loss\": 0.4670363962650299, \"val_recall\": 0.6979969143867493}]}}, {\"mode\": \"vega-lite\"});\n",
       "</script>"
      ],
      "text/plain": [
       "alt.HConcatChart(...)"
      ]
     },
     "metadata": {},
     "output_type": "display_data"
    }
   ],
   "source": [
    "print(tuner_gru.get_best_hyperparameters(1)[0].values)\n",
    "print_alt(hp_gru_df)"
   ]
  },
  {
   "cell_type": "markdown",
   "metadata": {},
   "source": [
    "<p>Here you can see similar behave to the other models hyperparameter sets.</p>"
   ]
  },
  {
   "cell_type": "code",
   "execution_count": 436,
   "metadata": {},
   "outputs": [
    {
     "name": "stdout",
     "output_type": "stream",
     "text": [
      " 63/191 [========>.....................] - ETA: 1s"
     ]
    },
    {
     "name": "stdout",
     "output_type": "stream",
     "text": [
      "191/191 [==============================] - 1s 6ms/step\n",
      "48/48 [==============================] - 0s 4ms/step\n"
     ]
    }
   ],
   "source": [
    "y_pred_train_gru = final_gru_model.predict(X_train)\n",
    "y_pred_val_gru = final_gru_model.predict(X_val)"
   ]
  },
  {
   "cell_type": "code",
   "execution_count": 516,
   "metadata": {},
   "outputs": [
    {
     "data": {
      "image/png": "[encoded data removed]",
      "text/plain": [
       "<Figure size 1000x400 with 4 Axes>"
      ]
     },
     "metadata": {},
     "output_type": "display_data"
    }
   ],
   "source": [
    "displayConfusionMatrix(y_train, y_pred_train_gru, y_val, y_pred_val_gru, 'GRU')"
   ]
  },
  {
   "cell_type": "markdown",
   "metadata": {},
   "source": [
    "<p>As with the last two best models, the best GRU final model did very well accuratly labeling tweets that were NOT about disasters, but had more trouble accuratly labeling tweets that truely were about a disaster. The validation predictions from this model were on par wth those from the Bi-directional LSTM model.</p>"
   ]
  },
  {
   "cell_type": "markdown",
   "metadata": {},
   "source": [
    "<h3>Kagge prediction and score</h3>"
   ]
  },
  {
   "cell_type": "markdown",
   "metadata": {},
   "source": [
    "<p>The test data set will now be fed into the pretrained tokenizer, formated for the Bi-directional LSTM model (it had the best recall score), verified it can be reconstructed into the original cleaned tweets, and passed into the model for predictiong the correct test tweet label.</p>"
   ]
  },
  {
   "cell_type": "code",
   "execution_count": 464,
   "metadata": {},
   "outputs": [],
   "source": [
    "final_test = tokenizer.texts_to_sequences(df_test['text_clean'].values)\n",
    "final_test = keras.utils.pad_sequences(final_test)"
   ]
  },
  {
   "cell_type": "code",
   "execution_count": 520,
   "metadata": {},
   "outputs": [
    {
     "name": "stdout",
     "output_type": "stream",
     "text": [
      "row 0\n",
      "reconstructed tokenized tweet:\n",
      "     ['happened terrible car crash']\n",
      "original cleaned tweet:\n",
      "     happened terrible car crash\n",
      "\n",
      "row 1\n",
      "reconstructed tokenized tweet:\n",
      "     ['heard earthquake different cities stay safe everyone']\n",
      "original cleaned tweet:\n",
      "     heard earthquake different cities stay safe everyone\n",
      "\n",
      "row 2\n",
      "reconstructed tokenized tweet:\n",
      "     ['forest fire spot pond fleeing across street cannot save']\n",
      "original cleaned tweet:\n",
      "     forest fire spot pond geese fleeing across street cannot save\n",
      "\n"
     ]
    }
   ],
   "source": [
    "\n",
    "for i in range(3):\n",
    "    print(f'row {i}')\n",
    "    print('reconstructed tokenized tweet:\\n    ', tokenizer.sequences_to_texts([final_test[i]]))\n",
    "    print('original cleaned tweet:\\n    ', df_test.loc[i,'text_clean'], end='\\n\\n')"
   ]
  },
  {
   "cell_type": "code",
   "execution_count": 487,
   "metadata": {},
   "outputs": [
    {
     "name": "stdout",
     "output_type": "stream",
     "text": [
      "102/102 [==============================] - 1s 13ms/step\n"
     ]
    }
   ],
   "source": [
    "y_pred_test_bd_lstm = final_bi_dir_lstm_model.predict(final_test)"
   ]
  },
  {
   "cell_type": "code",
   "execution_count": 503,
   "metadata": {},
   "outputs": [],
   "source": [
    "y_pred_test_bd_lstm_to_sub = [int(np.round(np.mean(i))) for i in y_pred_test_bd_lstm]"
   ]
  },
  {
   "cell_type": "code",
   "execution_count": 508,
   "metadata": {},
   "outputs": [
    {
     "name": "stdout",
     "output_type": "stream",
     "text": [
      "pred label:  1 text:  Just happened a terrible car crash\n",
      "\n",
      "pred label:  1 text:  Heard about #earthquake is different cities, stay safe everyone.\n",
      "\n",
      "pred label:  1 text:  there is a forest fire at spot pond, geese are fleeing across the street, I cannot save them all\n",
      "\n",
      "pred label:  1 text:  Apocalypse lighting. #Spokane #wildfires\n",
      "\n",
      "pred label:  1 text:  Typhoon Soudelor kills 28 in China and Taiwan\n",
      "\n",
      "pred label:  1 text:  We're shaking...It's an earthquake\n",
      "\n",
      "pred label:  0 text:  They'd probably still show more life than Arsenal did yesterday, eh? EH?\n",
      "\n",
      "pred label:  0 text:  Hey! How are you?\n",
      "\n",
      "pred label:  0 text:  What a nice hat?\n",
      "\n"
     ]
    }
   ],
   "source": [
    "for i in range(9):\n",
    "    print('pred label: ', y_pred_test_bd_lstm_to_sub[i], 'text: ', df_test.loc[i, 'text'], end='\\n\\n')"
   ]
  },
  {
   "cell_type": "code",
   "execution_count": 509,
   "metadata": {},
   "outputs": [
    {
     "data": {
      "text/html": [
       "<div>\n",
       "<style scoped>\n",
       "    .dataframe tbody tr th:only-of-type {\n",
       "        vertical-align: middle;\n",
       "    }\n",
       "\n",
       "    .dataframe tbody tr th {\n",
       "        vertical-align: top;\n",
       "    }\n",
       "\n",
       "    .dataframe thead th {\n",
       "        text-align: right;\n",
       "    }\n",
       "</style>\n",
       "<table border=\"1\" class=\"dataframe\">\n",
       "  <thead>\n",
       "    <tr style=\"text-align: right;\">\n",
       "      <th></th>\n",
       "      <th>id</th>\n",
       "      <th>target</th>\n",
       "    </tr>\n",
       "  </thead>\n",
       "  <tbody>\n",
       "    <tr>\n",
       "      <th>0</th>\n",
       "      <td>0</td>\n",
       "      <td>0</td>\n",
       "    </tr>\n",
       "    <tr>\n",
       "      <th>1</th>\n",
       "      <td>2</td>\n",
       "      <td>0</td>\n",
       "    </tr>\n",
       "    <tr>\n",
       "      <th>2</th>\n",
       "      <td>3</td>\n",
       "      <td>0</td>\n",
       "    </tr>\n",
       "    <tr>\n",
       "      <th>3</th>\n",
       "      <td>9</td>\n",
       "      <td>0</td>\n",
       "    </tr>\n",
       "    <tr>\n",
       "      <th>4</th>\n",
       "      <td>11</td>\n",
       "      <td>0</td>\n",
       "    </tr>\n",
       "  </tbody>\n",
       "</table>\n",
       "</div>"
      ],
      "text/plain": [
       "   id  target\n",
       "0   0       0\n",
       "1   2       0\n",
       "2   3       0\n",
       "3   9       0\n",
       "4  11       0"
      ]
     },
     "execution_count": 509,
     "metadata": {},
     "output_type": "execute_result"
    }
   ],
   "source": [
    "sample_submission = pd.read_csv(\"C:/Users/kgrit/OneDrive/Documents/UC boulder Data science masters/Intro to deep learning/week 4/assignment rough draft/data/sample_submission.csv\")\n",
    "sample_submission.head()"
   ]
  },
  {
   "cell_type": "code",
   "execution_count": 510,
   "metadata": {},
   "outputs": [],
   "source": [
    "sample_submission[\"target\"] = y_pred_test_bd_lstm_to_sub"
   ]
  },
  {
   "cell_type": "code",
   "execution_count": 512,
   "metadata": {},
   "outputs": [],
   "source": [
    "sample_submission.to_csv(\"kaggle_submission_final.csv\", index=False)"
   ]
  },
  {
   "cell_type": "markdown",
   "metadata": {},
   "source": [
    "![alt text](<kaggle_submission_screenshot.png>)"
   ]
  },
  {
   "cell_type": "markdown",
   "metadata": {},
   "source": [
    "<h2>Conclusion</h2>"
   ]
  },
  {
   "cell_type": "markdown",
   "metadata": {},
   "source": [
    "<h3>General takeways</h3>\n",
    "<p>From the three model architectures, the optimized bi-directional LSTM model did the best, though not by much. Interestingly, the model did slightly better predicting the test tweet labels as it did on the validation data set labels, with regards to F1. Frankly I am amazed that just a single layer of any of the three main layer types tested here was able to do so well. That could speak to the strengths of these kinds of layers, the method of word tokenization, or most likely both. One big takeway however is that reducing the size of the input has a drastic affect on model training/fitting time, as is likely obvious. A clever choice of word tokenization can greatly reduce training time and if it is information dense enough, still lead to strong model performance.<p>\n",
    "<h3>Model performace helpers and detractors</h3>\n",
    "<p>On previous iterations of this problem challenge, I set the models to use accuracy score in the model compiler. I found this did not help because even though the accuracy scores and F1 scores improved, the models did poorly when it came to the most improtant tests, accurately labeling the true disaster tweets correctly. By changing the scoring metric to recall, I was able to modestly improve the model performances.</p>\n",
    "<p>Another thing that had a positive impact on model performance was the Word2Vec word embedding process. After testing out a few others such as TF-IDF and Bag-of-words, I found that Word2Vec operations produced a much smaller input for the models and allowed them to be trained very fast. orders of magnitude faster than with the other word embedding stategizes as I had implimented them.</p>\n",
    "<h3>Possible future improvements</h3>\n",
    "<p>In the fiuture, making the models more complex will liekyl improve the model performance. In this case, each model only had one layer of LSTM, Bi-direcitnoal LSTM, and GRU layer, with the additional dropout layers surrounding them. With additional layers, the models very liekyl will perform much better.</p>"
   ]
  },
  {
   "cell_type": "markdown",
   "metadata": {},
   "source": [
    "<h2>Acknowledgements</h2>\n",
    "<p>1. SandhyaKrishnan02 (2022) NLP with Disaster Tweets using LSTM, Kaggle. Kaggle. Available at: https://www.kaggle.com/code/sandhyakrishnan02/nlp-with-disaster-tweets-using-lstm.</p>\n",
    "<p>2. Koo Ping Shung (2018) Accuracy, Precision, Recall or F1?, Towards Data Science. Available at: https://towardsdatascience.com/accuracy-precision-recall-or-f1-331fb37c5cb9.</p>\n",
    "<p>3. Masatoshi Kato (2022) Effective EDA & BERT in NLP (BERT Baseline), Kaggle. Kaggle. Available at: https://www.kaggle.com/code/masatoshikato/effective-eda-bert-in-nlp-bert-baseline.</p>\n",
    "<p>4. Alexia Audevart (2023) KerasNLP starter notebook Disaster Tweets, Kaggle. Kaggle. Available at: https://www.kaggle.com/code/alexia/kerasnlp-starter-notebook-disaster-tweets.</p>\n",
    "<p>5. Akash Deep (2020) Understanding NLP Keras Tokenizer Class Arguments with example. Medium. Available at: https://medium.com/analytics-vidhya/understanding-nlp-keras-tokenizer-class-arguments-with-example-551c100f0cbd.</p>"
   ]
  },
  {
   "cell_type": "code",
   "execution_count": null,
   "metadata": {},
   "outputs": [],
   "source": []
  },
  {
   "cell_type": "code",
   "execution_count": null,
   "metadata": {},
   "outputs": [],
   "source": []
  }
 ],
 "metadata": {
  "kernelspec": {
   "display_name": "tf",
   "language": "python",
   "name": "python3"
  },
  "language_info": {
   "codemirror_mode": {
    "name": "ipython",
    "version": 3
   },
   "file_extension": ".py",
   "mimetype": "text/x-python",
   "name": "python",
   "nbconvert_exporter": "python",
   "pygments_lexer": "ipython3",
   "version": "3.9.19"
  }
 },
 "nbformat": 4,
 "nbformat_minor": 2
}
